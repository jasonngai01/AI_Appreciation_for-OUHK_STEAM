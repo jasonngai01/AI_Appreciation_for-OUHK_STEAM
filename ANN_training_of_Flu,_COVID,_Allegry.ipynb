{
  "nbformat": 4,
  "nbformat_minor": 0,
  "metadata": {
    "colab": {
      "name": "ANN training of Flu, COVID, Allegry",
      "provenance": [],
      "collapsed_sections": [],
      "authorship_tag": "ABX9TyNuyvW0gM/jZK2qahMCAnrN",
      "include_colab_link": true
    },
    "kernelspec": {
      "name": "python3",
      "display_name": "Python 3"
    },
    "language_info": {
      "name": "python"
    }
  },
  "cells": [
    {
      "cell_type": "markdown",
      "metadata": {
        "id": "view-in-github",
        "colab_type": "text"
      },
      "source": [
        "<a href=\"https://colab.research.google.com/github/jasonngai01/AI_Appreciation_for-OUHK_STEAM/blob/main/ANN_training_of_Flu%2C_COVID%2C_Allegry.ipynb\" target=\"_parent\"><img src=\"https://colab.research.google.com/assets/colab-badge.svg\" alt=\"Open In Colab\"/></a>"
      ]
    },
    {
      "cell_type": "markdown",
      "metadata": {
        "id": "nesXNj-w_nR1"
      },
      "source": [
        "##Artificial Neural Networks (ANNs) of Flu, Covid, Allergy and Cold (流感、Covid、過敏和感冒的人工神經網絡)\n",
        "\n",
        "<img src = \"https://imgur.com/xEOudaE.png\" width = \"800\" />\n",
        "\n",
        "1. In this tutorial we look at what an artificial neural network (ANN) is by building a AI docter.\n",
        "\n",
        "2. We then extend this to a different layered, fully connected ANN and attempt the classification task again to check the model accuracy and loss (嘗試分類任務以檢查模型的準確性和損失). \n",
        "\n",
        "3. Also, we are going to play with some of its basic hyperparameters (基本超參數) (number of layers, neurons per layer, number of epochs, activation functions, etc) until it learns to predict at a satisfactory level."
      ]
    },
    {
      "cell_type": "markdown",
      "metadata": {
        "id": "f2f_q5ZEEJ0K"
      },
      "source": [
        "## Step 1: Dataset Preparation (數據集準備)\n",
        "\n",
        " "
      ]
    },
    {
      "cell_type": "markdown",
      "metadata": {
        "id": "Szdxst_DN7EI"
      },
      "source": [
        "###Step 1A: Download the dataset from Kaggle \n",
        "1. Go to the below website and download the the Covid dataset from **Kaggle**.\n",
        "\n",
        "[Covid Dataset from Kaggle](https://www.kaggle.com/vishakhasinghiitbhu/covid-classifier)\n",
        "\n"
      ]
    },
    {
      "cell_type": "markdown",
      "metadata": {
        "id": "e32JEe1vgwDq"
      },
      "source": [
        "###Step 1B: Data labelling and encoding (數據標記和編碼)\n",
        "\n",
        "1. In the original dataset from Kaggle, you can find the last column have 4 catalogries of diseases. \n",
        "\n",
        "2. Change each of the disease into a into a individual column with One hot encoding format. please refer to the below example.\n",
        "\n",
        "<img src = \"https://miro.medium.com/max/700/1*ZFCX83XaMNzOAXRxAcvMJw.png\" width =\"800\" />\n",
        "\n",
        "source: Pat Huang\n",
        "\n"
      ]
    },
    {
      "cell_type": "markdown",
      "metadata": {
        "id": "9Oj0QpWtQOjA"
      },
      "source": [
        "###**Question: What is One-hot encoding? WHY??**\n",
        "\n"
      ]
    },
    {
      "cell_type": "markdown",
      "metadata": {
        "id": "QfMuGHDzg9AW"
      },
      "source": [
        "###Step 1C: Upload Dataset  (上傳數據集)\n",
        "\n",
        "1. Upload the dataset csv file to the drive using the below code. "
      ]
    },
    {
      "cell_type": "code",
      "metadata": {
        "colab": {
          "resources": {
            "http://localhost:8080/nbextensions/google.colab/files.js": {
              "data": "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",
              "ok": true,
              "headers": [
                [
                  "content-type",
                  "application/javascript"
                ]
              ],
              "status": 200,
              "status_text": ""
            }
          },
          "base_uri": "https://localhost:8080/",
          "height": 91
        },
        "id": "WZScHn-IYfAi",
        "outputId": "143958c0-dd1f-46b0-e44a-a82417a0e4a2"
      },
      "source": [
        "# upload the dataset from local to google drive\n",
        "from google.colab import files\n",
        "\n",
        "uploaded = files.upload()\n",
        "\n",
        "for fn in uploaded.keys():\n",
        "  print('User uploaded file \"{name}\" with length {length} bytes'.format(\n",
        "      name=fn, length=len(uploaded[fn])))"
      ],
      "execution_count": null,
      "outputs": [
        {
          "output_type": "display_data",
          "data": {
            "text/html": [
              "\n",
              "     <input type=\"file\" id=\"files-bde17656-45c4-4e5a-83e7-c5898a5c1191\" name=\"files[]\" multiple disabled\n",
              "        style=\"border:none\" />\n",
              "     <output id=\"result-bde17656-45c4-4e5a-83e7-c5898a5c1191\">\n",
              "      Upload widget is only available when the cell has been executed in the\n",
              "      current browser session. Please rerun this cell to enable.\n",
              "      </output>\n",
              "      <script src=\"/nbextensions/google.colab/files.js\"></script> "
            ],
            "text/plain": [
              "<IPython.core.display.HTML object>"
            ]
          },
          "metadata": {
            "tags": []
          }
        },
        {
          "output_type": "stream",
          "text": [
            "Saving Covid, Cold, Flu or Allergy.csv to Covid, Cold, Flu or Allergy.csv\n",
            "User uploaded file \"Covid, Cold, Flu or Allergy.csv\" with length 2178453 bytes\n"
          ],
          "name": "stdout"
        }
      ]
    },
    {
      "cell_type": "markdown",
      "metadata": {
        "id": "nSwImUpcYo2Z"
      },
      "source": [
        "##Step 2: Importing The Libraries ((導入庫)\n",
        "\n",
        "\n",
        "1. NumPy\n",
        "\n",
        "2. Scikit-learn\n",
        "\n",
        "3. TensorFlow\n",
        "\n",
        "4. Keras \n",
        "\n",
        "5. Pandas\n",
        "\n",
        "\n"
      ]
    },
    {
      "cell_type": "code",
      "metadata": {
        "id": "5ePLDVinYp_F"
      },
      "source": [
        "# import the library \n",
        "\n",
        "import numpy as np\n",
        "import pandas as pd\n",
        "import tensorflow as tf\n",
        "from keras.layers import Dense\n",
        "from keras.models import Sequential"
      ],
      "execution_count": null,
      "outputs": []
    },
    {
      "cell_type": "markdown",
      "metadata": {
        "id": "d8kugJDkYxNV"
      },
      "source": [
        "##Step 3: Data Preprocessing (數據預處理)\n"
      ]
    },
    {
      "cell_type": "code",
      "metadata": {
        "id": "PmLdBXDSYyjb",
        "colab": {
          "base_uri": "https://localhost:8080/",
          "height": 379
        },
        "outputId": "a0fdd9a3-3038-411a-8de3-541f701a7c73"
      },
      "source": [
        "# open the dataset\n",
        "dataset = pd.read_csv('/content/Covid, Cold, Flu or Allergy.csv')\n",
        "\n",
        "# show the first 10 items of dataset\n",
        "dataset.head(10)\n",
        "\n"
      ],
      "execution_count": null,
      "outputs": [
        {
          "output_type": "execute_result",
          "data": {
            "text/html": [
              "<div>\n",
              "<style scoped>\n",
              "    .dataframe tbody tr th:only-of-type {\n",
              "        vertical-align: middle;\n",
              "    }\n",
              "\n",
              "    .dataframe tbody tr th {\n",
              "        vertical-align: top;\n",
              "    }\n",
              "\n",
              "    .dataframe thead th {\n",
              "        text-align: right;\n",
              "    }\n",
              "</style>\n",
              "<table border=\"1\" class=\"dataframe\">\n",
              "  <thead>\n",
              "    <tr style=\"text-align: right;\">\n",
              "      <th></th>\n",
              "      <th>COUGH</th>\n",
              "      <th>MUSCLE_ACHES</th>\n",
              "      <th>TIREDNESS</th>\n",
              "      <th>SORE_THROAT</th>\n",
              "      <th>RUNNY_NOSE</th>\n",
              "      <th>STUFFY_NOSE</th>\n",
              "      <th>FEVER</th>\n",
              "      <th>NAUSEA</th>\n",
              "      <th>VOMITING</th>\n",
              "      <th>DIARRHEA</th>\n",
              "      <th>SHORTNESS_OF_BREATH</th>\n",
              "      <th>DIFFICULTY_BREATHING</th>\n",
              "      <th>LOSS_OF_TASTE</th>\n",
              "      <th>LOSS_OF_SMELL</th>\n",
              "      <th>ITCHY_NOSE</th>\n",
              "      <th>ITCHY_EYES</th>\n",
              "      <th>ITCHY_MOUTH</th>\n",
              "      <th>ITCHY_INNER_EAR</th>\n",
              "      <th>SNEEZING</th>\n",
              "      <th>PINK_EYE</th>\n",
              "      <th>ALLERGY</th>\n",
              "      <th>Covid</th>\n",
              "      <th>Cold</th>\n",
              "      <th>FLU</th>\n",
              "    </tr>\n",
              "  </thead>\n",
              "  <tbody>\n",
              "    <tr>\n",
              "      <th>0</th>\n",
              "      <td>0</td>\n",
              "      <td>0</td>\n",
              "      <td>1</td>\n",
              "      <td>0</td>\n",
              "      <td>1</td>\n",
              "      <td>0</td>\n",
              "      <td>0</td>\n",
              "      <td>0</td>\n",
              "      <td>0</td>\n",
              "      <td>0</td>\n",
              "      <td>0</td>\n",
              "      <td>0</td>\n",
              "      <td>1</td>\n",
              "      <td>0</td>\n",
              "      <td>1</td>\n",
              "      <td>0</td>\n",
              "      <td>0</td>\n",
              "      <td>1</td>\n",
              "      <td>0</td>\n",
              "      <td>1</td>\n",
              "      <td>1</td>\n",
              "      <td>0</td>\n",
              "      <td>0</td>\n",
              "      <td>0</td>\n",
              "    </tr>\n",
              "    <tr>\n",
              "      <th>1</th>\n",
              "      <td>0</td>\n",
              "      <td>0</td>\n",
              "      <td>1</td>\n",
              "      <td>0</td>\n",
              "      <td>0</td>\n",
              "      <td>0</td>\n",
              "      <td>0</td>\n",
              "      <td>0</td>\n",
              "      <td>0</td>\n",
              "      <td>0</td>\n",
              "      <td>0</td>\n",
              "      <td>0</td>\n",
              "      <td>1</td>\n",
              "      <td>0</td>\n",
              "      <td>1</td>\n",
              "      <td>0</td>\n",
              "      <td>1</td>\n",
              "      <td>1</td>\n",
              "      <td>1</td>\n",
              "      <td>1</td>\n",
              "      <td>1</td>\n",
              "      <td>0</td>\n",
              "      <td>0</td>\n",
              "      <td>0</td>\n",
              "    </tr>\n",
              "    <tr>\n",
              "      <th>2</th>\n",
              "      <td>0</td>\n",
              "      <td>1</td>\n",
              "      <td>1</td>\n",
              "      <td>1</td>\n",
              "      <td>0</td>\n",
              "      <td>0</td>\n",
              "      <td>0</td>\n",
              "      <td>0</td>\n",
              "      <td>0</td>\n",
              "      <td>0</td>\n",
              "      <td>0</td>\n",
              "      <td>0</td>\n",
              "      <td>1</td>\n",
              "      <td>0</td>\n",
              "      <td>1</td>\n",
              "      <td>0</td>\n",
              "      <td>0</td>\n",
              "      <td>0</td>\n",
              "      <td>0</td>\n",
              "      <td>1</td>\n",
              "      <td>1</td>\n",
              "      <td>0</td>\n",
              "      <td>0</td>\n",
              "      <td>0</td>\n",
              "    </tr>\n",
              "    <tr>\n",
              "      <th>3</th>\n",
              "      <td>0</td>\n",
              "      <td>0</td>\n",
              "      <td>0</td>\n",
              "      <td>1</td>\n",
              "      <td>1</td>\n",
              "      <td>0</td>\n",
              "      <td>0</td>\n",
              "      <td>0</td>\n",
              "      <td>0</td>\n",
              "      <td>0</td>\n",
              "      <td>0</td>\n",
              "      <td>0</td>\n",
              "      <td>1</td>\n",
              "      <td>1</td>\n",
              "      <td>0</td>\n",
              "      <td>0</td>\n",
              "      <td>1</td>\n",
              "      <td>0</td>\n",
              "      <td>1</td>\n",
              "      <td>1</td>\n",
              "      <td>1</td>\n",
              "      <td>0</td>\n",
              "      <td>0</td>\n",
              "      <td>0</td>\n",
              "    </tr>\n",
              "    <tr>\n",
              "      <th>4</th>\n",
              "      <td>0</td>\n",
              "      <td>0</td>\n",
              "      <td>1</td>\n",
              "      <td>0</td>\n",
              "      <td>1</td>\n",
              "      <td>0</td>\n",
              "      <td>0</td>\n",
              "      <td>0</td>\n",
              "      <td>0</td>\n",
              "      <td>0</td>\n",
              "      <td>0</td>\n",
              "      <td>0</td>\n",
              "      <td>1</td>\n",
              "      <td>1</td>\n",
              "      <td>0</td>\n",
              "      <td>1</td>\n",
              "      <td>0</td>\n",
              "      <td>1</td>\n",
              "      <td>1</td>\n",
              "      <td>1</td>\n",
              "      <td>1</td>\n",
              "      <td>0</td>\n",
              "      <td>0</td>\n",
              "      <td>0</td>\n",
              "    </tr>\n",
              "    <tr>\n",
              "      <th>5</th>\n",
              "      <td>0</td>\n",
              "      <td>0</td>\n",
              "      <td>0</td>\n",
              "      <td>0</td>\n",
              "      <td>0</td>\n",
              "      <td>0</td>\n",
              "      <td>0</td>\n",
              "      <td>0</td>\n",
              "      <td>0</td>\n",
              "      <td>0</td>\n",
              "      <td>0</td>\n",
              "      <td>0</td>\n",
              "      <td>0</td>\n",
              "      <td>1</td>\n",
              "      <td>1</td>\n",
              "      <td>0</td>\n",
              "      <td>0</td>\n",
              "      <td>1</td>\n",
              "      <td>1</td>\n",
              "      <td>1</td>\n",
              "      <td>1</td>\n",
              "      <td>0</td>\n",
              "      <td>0</td>\n",
              "      <td>0</td>\n",
              "    </tr>\n",
              "    <tr>\n",
              "      <th>6</th>\n",
              "      <td>1</td>\n",
              "      <td>0</td>\n",
              "      <td>0</td>\n",
              "      <td>0</td>\n",
              "      <td>1</td>\n",
              "      <td>1</td>\n",
              "      <td>0</td>\n",
              "      <td>0</td>\n",
              "      <td>0</td>\n",
              "      <td>0</td>\n",
              "      <td>0</td>\n",
              "      <td>0</td>\n",
              "      <td>0</td>\n",
              "      <td>0</td>\n",
              "      <td>1</td>\n",
              "      <td>0</td>\n",
              "      <td>0</td>\n",
              "      <td>0</td>\n",
              "      <td>0</td>\n",
              "      <td>1</td>\n",
              "      <td>1</td>\n",
              "      <td>0</td>\n",
              "      <td>0</td>\n",
              "      <td>0</td>\n",
              "    </tr>\n",
              "    <tr>\n",
              "      <th>7</th>\n",
              "      <td>0</td>\n",
              "      <td>1</td>\n",
              "      <td>1</td>\n",
              "      <td>1</td>\n",
              "      <td>0</td>\n",
              "      <td>0</td>\n",
              "      <td>0</td>\n",
              "      <td>0</td>\n",
              "      <td>0</td>\n",
              "      <td>0</td>\n",
              "      <td>0</td>\n",
              "      <td>0</td>\n",
              "      <td>1</td>\n",
              "      <td>1</td>\n",
              "      <td>0</td>\n",
              "      <td>1</td>\n",
              "      <td>0</td>\n",
              "      <td>0</td>\n",
              "      <td>1</td>\n",
              "      <td>1</td>\n",
              "      <td>1</td>\n",
              "      <td>0</td>\n",
              "      <td>0</td>\n",
              "      <td>0</td>\n",
              "    </tr>\n",
              "    <tr>\n",
              "      <th>8</th>\n",
              "      <td>1</td>\n",
              "      <td>1</td>\n",
              "      <td>0</td>\n",
              "      <td>0</td>\n",
              "      <td>1</td>\n",
              "      <td>0</td>\n",
              "      <td>0</td>\n",
              "      <td>0</td>\n",
              "      <td>0</td>\n",
              "      <td>0</td>\n",
              "      <td>0</td>\n",
              "      <td>0</td>\n",
              "      <td>0</td>\n",
              "      <td>1</td>\n",
              "      <td>0</td>\n",
              "      <td>0</td>\n",
              "      <td>0</td>\n",
              "      <td>0</td>\n",
              "      <td>1</td>\n",
              "      <td>0</td>\n",
              "      <td>1</td>\n",
              "      <td>0</td>\n",
              "      <td>0</td>\n",
              "      <td>0</td>\n",
              "    </tr>\n",
              "    <tr>\n",
              "      <th>9</th>\n",
              "      <td>1</td>\n",
              "      <td>0</td>\n",
              "      <td>1</td>\n",
              "      <td>1</td>\n",
              "      <td>1</td>\n",
              "      <td>0</td>\n",
              "      <td>0</td>\n",
              "      <td>0</td>\n",
              "      <td>0</td>\n",
              "      <td>0</td>\n",
              "      <td>0</td>\n",
              "      <td>0</td>\n",
              "      <td>0</td>\n",
              "      <td>1</td>\n",
              "      <td>0</td>\n",
              "      <td>0</td>\n",
              "      <td>0</td>\n",
              "      <td>0</td>\n",
              "      <td>1</td>\n",
              "      <td>0</td>\n",
              "      <td>1</td>\n",
              "      <td>0</td>\n",
              "      <td>0</td>\n",
              "      <td>0</td>\n",
              "    </tr>\n",
              "  </tbody>\n",
              "</table>\n",
              "</div>"
            ],
            "text/plain": [
              "   COUGH  MUSCLE_ACHES  TIREDNESS  SORE_THROAT  ...  ALLERGY  Covid  Cold  FLU\n",
              "0      0             0          1            0  ...        1      0     0    0\n",
              "1      0             0          1            0  ...        1      0     0    0\n",
              "2      0             1          1            1  ...        1      0     0    0\n",
              "3      0             0          0            1  ...        1      0     0    0\n",
              "4      0             0          1            0  ...        1      0     0    0\n",
              "5      0             0          0            0  ...        1      0     0    0\n",
              "6      1             0          0            0  ...        1      0     0    0\n",
              "7      0             1          1            1  ...        1      0     0    0\n",
              "8      1             1          0            0  ...        1      0     0    0\n",
              "9      1             0          1            1  ...        1      0     0    0\n",
              "\n",
              "[10 rows x 24 columns]"
            ]
          },
          "metadata": {
            "tags": []
          },
          "execution_count": 3
        }
      ]
    },
    {
      "cell_type": "code",
      "metadata": {
        "colab": {
          "base_uri": "https://localhost:8080/"
        },
        "id": "dmcKYNwZuyTC",
        "outputId": "ba95f1b7-e032-47a8-b21a-b682436a4677"
      },
      "source": [
        "# make the symtomp such as cough, muscle aches be the independent (X)\n",
        "# show exclude last column with values.\n",
        "\n",
        "X = dataset.iloc[:,0:-4]. values\n",
        "print(X[0])\n",
        "print(X[1])\n",
        "print(X[2])\n",
        "print(X[3])\n",
        "print(X[4])"
      ],
      "execution_count": null,
      "outputs": [
        {
          "output_type": "stream",
          "text": [
            "[0 0 1 0 1 0 0 0 0 0 0 0 1 0 1 0 0 1 0 1]\n",
            "[0 0 1 0 0 0 0 0 0 0 0 0 1 0 1 0 1 1 1 1]\n",
            "[0 1 1 1 0 0 0 0 0 0 0 0 1 0 1 0 0 0 0 1]\n",
            "[0 0 0 1 1 0 0 0 0 0 0 0 1 1 0 0 1 0 1 1]\n",
            "[0 0 1 0 1 0 0 0 0 0 0 0 1 1 0 1 0 1 1 1]\n"
          ],
          "name": "stdout"
        }
      ]
    },
    {
      "cell_type": "code",
      "metadata": {
        "colab": {
          "base_uri": "https://localhost:8080/"
        },
        "id": "bx1PAfCQtCtf",
        "outputId": "7b23341e-860a-49c7-de3f-0e4188496b70"
      },
      "source": [
        "# make the disease such as Flu, Cold be the dependent (y)\n",
        "# show the last 4 column with values.\n",
        "\n",
        "y = dataset.iloc[:,-4:]. values\n",
        "print(y[0])\n",
        "print(y[1])\n",
        "print(y[2])\n",
        "print(y[3])\n",
        "                "
      ],
      "execution_count": null,
      "outputs": [
        {
          "output_type": "stream",
          "text": [
            "[1 0 0 0]\n",
            "[1 0 0 0]\n",
            "[1 0 0 0]\n",
            "[1 0 0 0]\n",
            "[1 0 0 0]\n"
          ],
          "name": "stdout"
        }
      ]
    },
    {
      "cell_type": "markdown",
      "metadata": {
        "id": "kvTNttrfZJsb"
      },
      "source": [
        "##Step 4: Splitting the Dataset into the Training set and Test set (將數據集拆分為訓練集和測試集)\n",
        "\n",
        "<img src =\"https://miro.medium.com/max/1838/1*Xa1_gnLz8Pg6EfKwR3jz1A.jpeg\" width = \"600\" />\n"
      ]
    },
    {
      "cell_type": "code",
      "metadata": {
        "id": "SQu7C74gZMEf"
      },
      "source": [
        "# split the dataset into training and test sets\n",
        "# change the ration in test_size\n",
        "\n",
        "from sklearn.model_selection import train_test_split\n",
        "X_train, X_test, y_train, y_test = train_test_split(X,y, test_size = 0.2, random_state = 0)"
      ],
      "execution_count": null,
      "outputs": []
    },
    {
      "cell_type": "markdown",
      "metadata": {
        "id": "6xl05IIPPf9V"
      },
      "source": [
        "###**Question: What happen if the test size increase?**"
      ]
    },
    {
      "cell_type": "markdown",
      "metadata": {
        "id": "YcwjDgDNZi18"
      },
      "source": [
        "##Step 5: Feature Scaling (特徵縮放)\n",
        "\n"
      ]
    },
    {
      "cell_type": "code",
      "metadata": {
        "id": "4aSq5JHDZn36"
      },
      "source": [
        "from sklearn.preprocessing import StandardScaler\n",
        "sc = StandardScaler()\n",
        "X_train=sc.fit_transform(X_train)\n",
        "X_test=sc.transform(X_test)"
      ],
      "execution_count": null,
      "outputs": []
    },
    {
      "cell_type": "markdown",
      "metadata": {
        "id": "kRlWBLkpZm-k"
      },
      "source": [
        "##Step 6: Building the ANN model (構建 ANN 模型)\n",
        "\n",
        "<img src = \"https://miro.medium.com/max/791/1*4PQOnabj78avPB2Mikk5GQ.jpeg\" width = \"600\" />\n",
        "\n",
        "source: shreyak"
      ]
    },
    {
      "cell_type": "markdown",
      "metadata": {
        "id": "97A-VG3YHQqN"
      },
      "source": [
        "###Step 6.1: Initializing the ANN (初始化人工神經網絡)\n",
        "   \n",
        "\n"
      ]
    },
    {
      "cell_type": "code",
      "metadata": {
        "id": "_nOjppHmaBsO"
      },
      "source": [
        "# initialize the model\n",
        "\n",
        "model = tf.keras.models.Sequential()\n"
      ],
      "execution_count": null,
      "outputs": []
    },
    {
      "cell_type": "markdown",
      "metadata": {
        "id": "MGjET8QQeltr"
      },
      "source": [
        "###**Questions: Any other types of model approach ?**"
      ]
    },
    {
      "cell_type": "markdown",
      "metadata": {
        "id": "LrDp_-EHaMB2"
      },
      "source": [
        "###Step 6.2: Adding the Input Layer and the First Hidden Layer (添加輸入層和第一個隱藏層)\n"
      ]
    },
    {
      "cell_type": "code",
      "metadata": {
        "id": "SAZan3CVaPm8"
      },
      "source": [
        "# add the input layer and the first hidden layer\n",
        "# input the input_dim with the number of the symptom (independent X)\n",
        "\n",
        "model.add(tf.keras.layers.Dense(units=10, activation = 'tanh', input_dim=20))"
      ],
      "execution_count": null,
      "outputs": []
    },
    {
      "cell_type": "markdown",
      "metadata": {
        "id": "xmHoVPZ3aZf9"
      },
      "source": [
        "###Step 6.3: Adding the Second Hidden Layer  (添加第二個隱藏層)\n",
        "\n",
        "The next step is adding the second hidden layer. "
      ]
    },
    {
      "cell_type": "code",
      "metadata": {
        "id": "fH_ogf8KabkM"
      },
      "source": [
        "# add the second hidden layer\n",
        "\n",
        "model.add(tf.keras.layers.Dense(units=10, activation = 'tanh'))"
      ],
      "execution_count": null,
      "outputs": []
    },
    {
      "cell_type": "markdown",
      "metadata": {
        "id": "L6IR-R5GP3Np"
      },
      "source": [
        "###**Question: What happen if the thrid or fourth layer are added to the model?**"
      ]
    },
    {
      "cell_type": "markdown",
      "metadata": {
        "id": "2xm8G96qaqcH"
      },
      "source": [
        "\n",
        "###Step 6.4: Adding the output layer (添加輸出層)\n",
        "\n",
        "<img src = \"https://miro.medium.com/max/3000/1*-eLjPY7UGSoQhSyW5qC6gw.gif\" width = \"600\" />\n"
      ]
    },
    {
      "cell_type": "code",
      "metadata": {
        "id": "JaZHh39_at0K"
      },
      "source": [
        "# add the output layer\n",
        "\n",
        "model.add(tf.keras.layers.Dense(units=4, activation = 'softmax'))"
      ],
      "execution_count": null,
      "outputs": []
    },
    {
      "cell_type": "markdown",
      "metadata": {
        "id": "MRbw-_7uQENq"
      },
      "source": [
        "###**Question: What using the \"softmax\" activition fuction rather than \"sigmoid\"?**"
      ]
    },
    {
      "cell_type": "markdown",
      "metadata": {
        "id": "Dm3iu2o3a7sE"
      },
      "source": [
        "##Step 7: Training the ANN model (訓練 ANN 模型)\n",
        "\n",
        "This step is to train the created model on our training set. "
      ]
    },
    {
      "cell_type": "markdown",
      "metadata": {
        "id": "z_EsGS2ua9lh"
      },
      "source": [
        "###Step 7.1: Compiling the ANN  (編譯人工神經網絡)\n",
        "\n"
      ]
    },
    {
      "cell_type": "code",
      "metadata": {
        "id": "ZVx5lwVQbBd6"
      },
      "source": [
        "# compile the ANN model\n",
        "\n",
        "model.compile(optimizer = 'adam', loss = 'binary_crossentropy', metrics = ['accuracy'])"
      ],
      "execution_count": null,
      "outputs": []
    },
    {
      "cell_type": "markdown",
      "metadata": {
        "id": "XDAU_VmWQkve"
      },
      "source": [
        "###**Question: What happen if using other optimizer?**"
      ]
    },
    {
      "cell_type": "code",
      "metadata": {
        "colab": {
          "base_uri": "https://localhost:8080/"
        },
        "id": "EPkqPbxW-4os",
        "outputId": "ca0cf4cd-cad9-4217-8f51-5b871446f753"
      },
      "source": [
        "# view the summary of the hidden layer\n",
        "\n",
        "model.summary()"
      ],
      "execution_count": null,
      "outputs": [
        {
          "output_type": "stream",
          "text": [
            "Model: \"sequential_2\"\n",
            "_________________________________________________________________\n",
            "Layer (type)                 Output Shape              Param #   \n",
            "=================================================================\n",
            "dense (Dense)                (None, 10)                210       \n",
            "_________________________________________________________________\n",
            "dense_1 (Dense)              (None, 10)                110       \n",
            "_________________________________________________________________\n",
            "dense_2 (Dense)              (None, 4)                 44        \n",
            "=================================================================\n",
            "Total params: 364\n",
            "Trainable params: 364\n",
            "Non-trainable params: 0\n",
            "_________________________________________________________________\n"
          ],
          "name": "stdout"
        }
      ]
    },
    {
      "cell_type": "markdown",
      "metadata": {
        "id": "onC4QQhQaFmT"
      },
      "source": [
        "###**Question:What is *\"Param #'* ?　How to calculate the \"Param #\" in the whole ANN model**\n"
      ]
    },
    {
      "cell_type": "markdown",
      "metadata": {
        "id": "S_jDYedWbfbS"
      },
      "source": [
        "### Step 7.2: Training the ANN on the Training set (在訓練集上訓練 ANN)\n"
      ]
    },
    {
      "cell_type": "code",
      "metadata": {
        "colab": {
          "base_uri": "https://localhost:8080/"
        },
        "id": "D2b4Sr-WbwFS",
        "outputId": "94dcd1de-fa8f-47ca-e6b9-bebb4757e55f"
      },
      "source": [
        "# train the ANN model\n",
        "\n",
        "# input the batch_size and epochs\n",
        "\n",
        "r = model.fit(X_train, y_train, batch_size = 50, epochs = 50)"
      ],
      "execution_count": null,
      "outputs": [
        {
          "output_type": "stream",
          "text": [
            "Epoch 1/50\n",
            "712/712 [==============================] - 1s 1ms/step - loss: 0.0504 - accuracy: 0.9312\n",
            "Epoch 2/50\n",
            "712/712 [==============================] - 1s 1ms/step - loss: 0.0503 - accuracy: 0.9319\n",
            "Epoch 3/50\n",
            "712/712 [==============================] - 1s 1ms/step - loss: 0.0503 - accuracy: 0.9310\n",
            "Epoch 4/50\n",
            "712/712 [==============================] - 1s 1ms/step - loss: 0.0502 - accuracy: 0.9327\n",
            "Epoch 5/50\n",
            "712/712 [==============================] - 1s 1ms/step - loss: 0.0501 - accuracy: 0.9329\n",
            "Epoch 6/50\n",
            "712/712 [==============================] - 1s 1ms/step - loss: 0.0502 - accuracy: 0.9316\n",
            "Epoch 7/50\n",
            "712/712 [==============================] - 1s 1ms/step - loss: 0.0501 - accuracy: 0.9305\n",
            "Epoch 8/50\n",
            "712/712 [==============================] - 1s 1ms/step - loss: 0.0500 - accuracy: 0.9316\n",
            "Epoch 9/50\n",
            "712/712 [==============================] - 1s 1ms/step - loss: 0.0500 - accuracy: 0.9337\n",
            "Epoch 10/50\n",
            "712/712 [==============================] - 1s 1ms/step - loss: 0.0499 - accuracy: 0.9334\n",
            "Epoch 11/50\n",
            "712/712 [==============================] - 1s 1ms/step - loss: 0.0498 - accuracy: 0.9331\n",
            "Epoch 12/50\n",
            "712/712 [==============================] - 1s 1ms/step - loss: 0.0499 - accuracy: 0.9325\n",
            "Epoch 13/50\n",
            "712/712 [==============================] - 1s 2ms/step - loss: 0.0499 - accuracy: 0.9300\n",
            "Epoch 14/50\n",
            "712/712 [==============================] - 1s 1ms/step - loss: 0.0498 - accuracy: 0.9319\n",
            "Epoch 15/50\n",
            "712/712 [==============================] - 1s 1ms/step - loss: 0.0498 - accuracy: 0.9313\n",
            "Epoch 16/50\n",
            "712/712 [==============================] - 1s 1ms/step - loss: 0.0498 - accuracy: 0.9326\n",
            "Epoch 17/50\n",
            "712/712 [==============================] - 1s 1ms/step - loss: 0.0498 - accuracy: 0.9321\n",
            "Epoch 18/50\n",
            "712/712 [==============================] - 1s 1ms/step - loss: 0.0498 - accuracy: 0.9312\n",
            "Epoch 19/50\n",
            "712/712 [==============================] - 1s 1ms/step - loss: 0.0497 - accuracy: 0.9313\n",
            "Epoch 20/50\n",
            "712/712 [==============================] - 1s 2ms/step - loss: 0.0496 - accuracy: 0.9330\n",
            "Epoch 21/50\n",
            "712/712 [==============================] - 1s 1ms/step - loss: 0.0498 - accuracy: 0.9312\n",
            "Epoch 22/50\n",
            "712/712 [==============================] - 1s 1ms/step - loss: 0.0496 - accuracy: 0.9320\n",
            "Epoch 23/50\n",
            "712/712 [==============================] - 1s 1ms/step - loss: 0.0497 - accuracy: 0.9328\n",
            "Epoch 24/50\n",
            "712/712 [==============================] - 1s 1ms/step - loss: 0.0497 - accuracy: 0.9325\n",
            "Epoch 25/50\n",
            "712/712 [==============================] - 1s 1ms/step - loss: 0.0496 - accuracy: 0.9322\n",
            "Epoch 26/50\n",
            "712/712 [==============================] - 1s 1ms/step - loss: 0.0496 - accuracy: 0.9321\n",
            "Epoch 27/50\n",
            "712/712 [==============================] - 1s 1ms/step - loss: 0.0496 - accuracy: 0.9310\n",
            "Epoch 28/50\n",
            "712/712 [==============================] - 1s 1ms/step - loss: 0.0496 - accuracy: 0.9325\n",
            "Epoch 29/50\n",
            "712/712 [==============================] - 1s 1ms/step - loss: 0.0496 - accuracy: 0.9312\n",
            "Epoch 30/50\n",
            "712/712 [==============================] - 1s 1ms/step - loss: 0.0496 - accuracy: 0.9312\n",
            "Epoch 31/50\n",
            "712/712 [==============================] - 1s 1ms/step - loss: 0.0495 - accuracy: 0.9329\n",
            "Epoch 32/50\n",
            "712/712 [==============================] - 1s 1ms/step - loss: 0.0496 - accuracy: 0.9332\n",
            "Epoch 33/50\n",
            "712/712 [==============================] - 1s 1ms/step - loss: 0.0495 - accuracy: 0.9313\n",
            "Epoch 34/50\n",
            "712/712 [==============================] - 1s 1ms/step - loss: 0.0494 - accuracy: 0.9338\n",
            "Epoch 35/50\n",
            "712/712 [==============================] - 1s 1ms/step - loss: 0.0495 - accuracy: 0.9328\n",
            "Epoch 36/50\n",
            "712/712 [==============================] - 1s 1ms/step - loss: 0.0495 - accuracy: 0.9325\n",
            "Epoch 37/50\n",
            "712/712 [==============================] - 1s 1ms/step - loss: 0.0494 - accuracy: 0.9335\n",
            "Epoch 38/50\n",
            "712/712 [==============================] - 1s 1ms/step - loss: 0.0495 - accuracy: 0.9315\n",
            "Epoch 39/50\n",
            "712/712 [==============================] - 1s 1ms/step - loss: 0.0495 - accuracy: 0.9324\n",
            "Epoch 40/50\n",
            "712/712 [==============================] - 1s 1ms/step - loss: 0.0494 - accuracy: 0.9336\n",
            "Epoch 41/50\n",
            "712/712 [==============================] - 1s 1ms/step - loss: 0.0495 - accuracy: 0.9323\n",
            "Epoch 42/50\n",
            "712/712 [==============================] - 1s 1ms/step - loss: 0.0495 - accuracy: 0.9314\n",
            "Epoch 43/50\n",
            "712/712 [==============================] - 1s 1ms/step - loss: 0.0493 - accuracy: 0.9336\n",
            "Epoch 44/50\n",
            "712/712 [==============================] - 1s 1ms/step - loss: 0.0494 - accuracy: 0.9327\n",
            "Epoch 45/50\n",
            "712/712 [==============================] - 1s 1ms/step - loss: 0.0493 - accuracy: 0.9316\n",
            "Epoch 46/50\n",
            "712/712 [==============================] - 1s 1ms/step - loss: 0.0493 - accuracy: 0.9324\n",
            "Epoch 47/50\n",
            "712/712 [==============================] - 1s 1ms/step - loss: 0.0493 - accuracy: 0.9322\n",
            "Epoch 48/50\n",
            "712/712 [==============================] - 1s 1ms/step - loss: 0.0493 - accuracy: 0.9328\n",
            "Epoch 49/50\n",
            "712/712 [==============================] - 1s 1ms/step - loss: 0.0493 - accuracy: 0.9325\n",
            "Epoch 50/50\n",
            "712/712 [==============================] - 1s 1ms/step - loss: 0.0492 - accuracy: 0.9336\n"
          ],
          "name": "stdout"
        }
      ]
    },
    {
      "cell_type": "markdown",
      "metadata": {
        "id": "Vqnni_YAQ0QJ"
      },
      "source": [
        "###**Question: What happen if the Epoch and Batch size is different?**\n",
        "\n",
        "Using the Epoch = 500, Batch size = 100 to test it. "
      ]
    },
    {
      "cell_type": "markdown",
      "metadata": {
        "id": "s49fXlrhIG5h"
      },
      "source": [
        "## Step 8: Check the loss & accuracy of the trained model (檢查訓練模型的損失和準確性)\n",
        "\n",
        "Visualise the loss and accuracy with graphes.\n"
      ]
    },
    {
      "cell_type": "code",
      "metadata": {
        "id": "2dSoTB_RAJ38"
      },
      "source": [
        "# import the MATPLOT library\n",
        "\n",
        "import matplotlib.pyplot as plt"
      ],
      "execution_count": null,
      "outputs": []
    },
    {
      "cell_type": "code",
      "metadata": {
        "colab": {
          "base_uri": "https://localhost:8080/",
          "height": 530
        },
        "id": "vGv4QUHNANAZ",
        "outputId": "e1e724bc-5c09-4825-fbf0-2207ddd39125"
      },
      "source": [
        "# plot the loss & accuracy\n",
        "plt.plot(r.history['loss'], label='train loss')\n",
        "plt.legend()\n",
        "plt.show()\n",
        "plt.savefig('Loss&Acc')\n",
        "\n",
        "plt.plot(r.history['accuracy'], label='train acc')\n",
        "plt.legend()\n",
        "plt.show()\n",
        "plt.savefig('Loss&Acc')\n"
      ],
      "execution_count": null,
      "outputs": [
        {
          "output_type": "display_data",
          "data": {
            "image/png": "[encoded data removed]",
            "text/plain": [
              "<Figure size 432x288 with 1 Axes>"
            ]
          },
          "metadata": {
            "tags": [],
            "needs_background": "light"
          }
        },
        {
          "output_type": "display_data",
          "data": {
            "image/png": "[encoded data removed]",
            "text/plain": [
              "<Figure size 432x288 with 1 Axes>"
            ]
          },
          "metadata": {
            "tags": [],
            "needs_background": "light"
          }
        },
        {
          "output_type": "display_data",
          "data": {
            "text/plain": [
              "<Figure size 432x288 with 0 Axes>"
            ]
          },
          "metadata": {
            "tags": []
          }
        }
      ]
    },
    {
      "cell_type": "markdown",
      "metadata": {
        "id": "8LYtAuQ0b3Ok"
      },
      "source": [
        "##Step 9: Making the Predictions and Evaluating the Model (進行預測和評估模型)\n",
        "\n",
        "Now the ANN model is ready and also performed on the training dataset. \n"
      ]
    },
    {
      "cell_type": "markdown",
      "metadata": {
        "id": "2WJuH-bbAWuW"
      },
      "source": [
        "###Step 9A: Predicting the Test set results (預測測試集結果)\n",
        "\n",
        " "
      ]
    },
    {
      "cell_type": "code",
      "metadata": {
        "id": "P1FAoa6fb5zs"
      },
      "source": [
        "# Predicting the Test set results\n",
        "\n",
        "y_pred = model.predict (X_test)\n",
        "y_pred = (y_pred > 0.5)\n",
        "y_pred = y_pred.astype(int)\n",
        "\n",
        "print(y_pred)"
      ],
      "execution_count": null,
      "outputs": []
    },
    {
      "cell_type": "markdown",
      "metadata": {
        "id": "SbkISoSDegfE"
      },
      "source": [
        "###Step 9B: Calculate the Accuracy score (計算準確度分數)\n",
        "\n",
        "Accuracy calculation also requires the Scikit library. It shows how good the model is."
      ]
    },
    {
      "cell_type": "code",
      "metadata": {
        "colab": {
          "base_uri": "https://localhost:8080/"
        },
        "id": "LnYWDGNHejta",
        "outputId": "0f1f9477-2adb-4f20-bf3c-045e2f8cd065"
      },
      "source": [
        "# calculate the accuracy score\n",
        "\n",
        "accuracy_score(y_test, y_pred)"
      ],
      "execution_count": null,
      "outputs": [
        {
          "output_type": "execute_result",
          "data": {
            "text/plain": [
              "0.930154088404004"
            ]
          },
          "metadata": {
            "tags": []
          },
          "execution_count": 71
        }
      ]
    },
    {
      "cell_type": "markdown",
      "metadata": {
        "id": "axgBtK1bftQc"
      },
      "source": [
        "##Step 10: Create a Predictor (創建預測器)\n",
        "\n",
        "<img src =\"http://med.stanford.edu/content/dam/sm-news/images/2015/06/precision-health-stock.jpg\" width =\"600\" /> \n",
        "\n",
        "Visualising the Trained model results with new data\n",
        "\n",
        "This is the final and the best part of a predictive model — visualizing the results. \n",
        "\n",
        "Yep! Nothing is more fun than seeing your code run successfully and seeing an output. \n"
      ]
    },
    {
      "cell_type": "code",
      "metadata": {
        "id": "Lov_Ndi-5vzk"
      },
      "source": [
        "import matplotlib.pyplot as plt\n",
        "import numpy as np"
      ],
      "execution_count": null,
      "outputs": []
    },
    {
      "cell_type": "code",
      "metadata": {
        "id": "68yaUHRNgGZM"
      },
      "source": [
        "# answer the following questions (true = 1, false = 0)\n",
        "\n",
        "a = ([0],   # COUGH ?\n",
        "  [0],   # MUSCLE_ACHES ?\n",
        "  [0],   # TIREDNESS ?\n",
        "  [0],   # SORE_THROAT ?\n",
        "  [0],   # RUNNY_NOSE ?\n",
        "  [0],   # STUFFY_NOSE ?\n",
        "  [0],   # FEVER ?\n",
        "  [0],   # NAUSEA ?\n",
        "  [0],   # VOMITING ?\n",
        "  [0],   # DIARRHEA ?\n",
        "  [0],   # SHORTNESS_OF_BREATH ?\n",
        "  [0],   # DIFFICULTY_BREATHING ?\n",
        "  [0],   # LOSS_OF_TASTE ?\n",
        "  [0],   # LOSS_OF_SMELL ?\n",
        "  [0],   # ITCHY_NOSE ?\n",
        "  [0],   # ITCHY_EYES ?\n",
        "  [0],   # ITCHY_MOUTH ?\n",
        "  [0],   # ITCHY_INNER_EAR ?\n",
        "  [0],   # SNEEZING ?\n",
        "  [0])   # PINK_EYE ?\n",
        "xnew = np.transpose(a)"
      ],
      "execution_count": null,
      "outputs": []
    },
    {
      "cell_type": "code",
      "metadata": {
        "colab": {
          "base_uri": "https://localhost:8080/"
        },
        "id": "vTUozdqefvt4",
        "outputId": "b95ff3e2-88bf-4ac4-e265-eeafabd08779"
      },
      "source": [
        "# xnew=[[0,0,0,0,0,0,0,0,0,0,0,0,0,0,0,0,0,0,0,0]]\n",
        "\n",
        "if xnew == [[0,0,0,0,0,0,0,0,0,0,0,0,0,0,0,0,0,0,0,0]]:\n",
        " print('You are OKAY!!')\n",
        "else:\n",
        " y_pred = model.predict(xnew)*100\n",
        " # Printing the accuracy\n",
        " print('Allergy Probability - ', y_pred[0][0],'%')\n",
        " print('Covid Probability - ', y_pred[0][1],'%')\n",
        " print('Cold Probability - ', y_pred[0][2],'%')\n",
        " print('Flu Probability - ', y_pred[0][3],'%')\n"
      ],
      "execution_count": null,
      "outputs": [
        {
          "output_type": "stream",
          "text": [
            "You are OKAY!!\n"
          ],
          "name": "stdout"
        }
      ]
    },
    {
      "cell_type": "markdown",
      "metadata": {
        "id": "SKJfFmHHI7fs"
      },
      "source": [
        "## Source:\n",
        "\n",
        "1. [Greycampus](https://www.greycampus.com/blog/data-science/artificial-neural-network-walkthrough)\n",
        "\n",
        "2. [Kaggle](https://www.kaggle.com/vishakhasinghiitbhu/covid-classifier)"
      ]
    }
  ]
}
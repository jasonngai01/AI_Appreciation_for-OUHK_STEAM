{
  "nbformat": 4,
  "nbformat_minor": 0,
  "metadata": {
    "colab": {
      "name": "AI_Workshop_ANN_Note.ipynb",
      "provenance": [],
      "authorship_tag": "ABX9TyORxQqvLMo66roVBu3I2R9C",
      "include_colab_link": true
    },
    "kernelspec": {
      "name": "python3",
      "display_name": "Python 3"
    },
    "language_info": {
      "name": "python"
    }
  },
  "cells": [
    {
      "cell_type": "markdown",
      "metadata": {
        "id": "view-in-github",
        "colab_type": "text"
      },
      "source": [
        "<a href=\"https://colab.research.google.com/github/jasonngai01/AI_Appreciation_for-OUHK_STEAM/blob/main/AI_Workshop_ANN_Note.ipynb\" target=\"_parent\"><img src=\"https://colab.research.google.com/assets/colab-badge.svg\" alt=\"Open In Colab\"/></a>"
      ]
    },
    {
      "cell_type": "markdown",
      "metadata": {
        "id": "1EGMGbn2DEm5"
      },
      "source": [
        "##What is a Neural Network?\n",
        "\n",
        "Have you ever thought about what a neural network is? \n",
        "\n",
        "The word ‘neural’ comes from neurons and the network suggests a connection between those neurons. \n",
        "\n",
        "![alt text](https://www.greycampus.com/rails/active_storage/blobs/eyJfcmFpbHMiOnsibWVzc2FnZSI6IkJBaHBBblN3IiwiZXhwIjpudWxsLCJwdXIiOiJibG9iX2lkIn19--56983f009383d4da73c6b99295bbb36efbca394f/ann%201.jpg)\n",
        "\n",
        "Source: telegraph.co.uk\n",
        "\n",
        "The neural network in AI is based on the concept of biological neural networks. In general, our brain is connected with more than 80 billion neurons. The human neural system has three stages: receptors (receive the stimuli and pass the information to the outside environment), neural networks (make a decision for output after processing the input), and effectors (translate information of neural networks into a response). \n",
        "\n",
        "![alt text](https://www.greycampus.com/rails/active_storage/blobs/eyJfcmFpbHMiOnsibWVzc2FnZSI6IkJBaHBBbld3IiwiZXhwIjpudWxsLCJwdXIiOiJibG9iX2lkIn19--277088e029b50fd0f9193c90a5706522b01e801d/ann%202.jpg)\n",
        "\n",
        "Source: neurosciencenews.com\n",
        "\n",
        "The concept of deep learning is also based on a similar approach. We will see the whole concept of neural networking of AI using the Artificial Neural Network (ANN). \n",
        "\n",
        "![alt text](https://www.greycampus.com/rails/active_storage/blobs/eyJfcmFpbHMiOnsibWVzc2FnZSI6IkJBaHBBbmF3IiwiZXhwIjpudWxsLCJwdXIiOiJibG9iX2lkIn19--6a222fad528c904abfa1b5f62548cd5e40da48d6/ann%203.png)\n",
        "\n",
        "Source: en.wikipedia.org\n",
        "\n"
      ]
    },
    {
      "cell_type": "markdown",
      "metadata": {
        "id": "AXGBabqYDG0K"
      },
      "source": [
        "##Application of Deep Learning\n",
        "\n",
        "Deep learning has altered our world and its application is widely used in many fields such as image classification, speech recognition, language transition, sentiment analysis, cancer cell detection, diabetic grading, drug discovery, video search, face detection, video surveillance, satellite imagery, pedestrian detection, lane tracking, and recognition traffic signs. These are only a few examples of deep learning. This field is now beyond imagination. \n",
        "\n",
        "Here is a look at the structural similarity between a neuron and the weighing function that have pathways towards and away from the cell body or node.\n",
        "\n",
        "![alt text](https://www.greycampus.com/rails/active_storage/blobs/eyJfcmFpbHMiOnsibWVzc2FnZSI6IkJBaHBBcUt3IiwiZXhwIjpudWxsLCJwdXIiOiJibG9iX2lkIn19--df88133e057451a71f0e0f99986b7aff233dcc21/Application%20of%20Deep%20Learning.png)\n",
        "\n",
        "Source: Greycampus\n",
        "\n",
        "In the same way, here is the biological structure of neurons that are connected with each other via synapses across which signals are passed\n",
        "\n",
        "![alt text](https://www.greycampus.com/rails/active_storage/blobs/eyJfcmFpbHMiOnsibWVzc2FnZSI6IkJBaHBBcU93IiwiZXhwIjpudWxsLCJwdXIiOiJibG9iX2lkIn19--dd7128b242f2418dcdd4b591bbcc613ae326f781/Application%20of%20Deep%20Learning.1.png)\n",
        "\n",
        "Source: Greycampus"
      ]
    },
    {
      "cell_type": "markdown",
      "metadata": {
        "id": "EwzAPUFWDJHp"
      },
      "source": [
        "\n",
        "\n",
        "## What are ANNs?\n",
        "\n",
        "![alt text](https://cdn-images-1.medium.com/max/1200/1*-teDpAIho_nzNShRswkfrQ.gif)\n",
        "\n",
        "An ANN is made of many interconnected \"**neurons**\".   \n",
        "\n",
        "![alt text](https://www.softvision.com/wp-content/uploads/2019/01/Neural_Networks_in_your_browser_1.gif)\n",
        "\n",
        "Each neuron takes in some floating point numbers (e.g. 1.0, 0.5, -1.0) and multiplies them by some other floating point numbers (e.g. 0.7, 0.6, 1.4) known as **weights** (1.0 * 0.7 = 0.7, 0.5 * 0.6 = 0.3, -1.0 * 1.4 = -1.4).  The weights act as a mechanism to focus on, or ignore, certain inputs.  The weighted inputs then get summed together (e.g. 0.7 + 0.3 + -1.4 = -0.4) along with a **bias** value (e.g. -0.4 + ** -0.1 ** = -0.5).  \n",
        "\n",
        "The summed value (x) is now transformed into an output value (y) according to the neuron's **activation function**  (y = **f**(x)).  Some popular activation functions are shown below: \n",
        "\n",
        "![alt text](https://cdn-images-1.medium.com/max/1600/1*RD0lIYqB5L2LrI2VTIZqGw.png)\n",
        "\n",
        "e.g. -0.5 --> -0.05 if we use the **Leaky Rectified Linear Unit (Leaky ReLU)** activation function: y = f(x) = f(-0.5) = max(0.1*-0.5, -0.5) = max(-0.05, -0.5) = -0.05\n",
        "\n",
        "In larger ANNs with many layers, the neuron's output value (e.g. -0.05) would become the input for another neuron.\n",
        "\n",
        "![alt text](https://www.16bit.ai/static/img/loading.gif)\n",
        "\n",
        "![alt text](https://www.neuraldesigner.com/images/deep_neural_network.png)\n",
        "\n",
        "However, one of the first ANNs was known as the perceptron and it consisted of only a single neuron.  \n",
        "\n",
        "![alt text](https://cdn-images-1.medium.com/max/1600/1*_Zy1C83cnmYUdETCeQrOgA.png)\n",
        "\n",
        "The output of the perceptron's neuron acts as the final prediction. \n",
        "\n",
        "![alt text](https://cdn-images-1.medium.com/fit/t/1600/480/1*gpH4JC6Dqx_hIjrrcrq1Og.gif)\n",
        "\n",
        "This means that each neuron is a linear binary classifier all on its own (e.g. an output value >= 0 would be the blue class, but an output value < 0 would be the red class)\n",
        "\n",
        "\n"
      ]
    },
    {
      "cell_type": "markdown",
      "metadata": {
        "id": "J8ST59XKb7we"
      },
      "source": [
        "##TensorFlow Playground \n",
        "\n",
        "TensorFlow Playground is an interactive visualization of neural networks, written in typescript using d3.js. It contains a tiny neural network library that meets the demands of this educational visualization. You can simulate, in real time, in your browser, small neural networks and see the results.\n",
        "\n",
        "[TensorFlow Playground](https://playground.tensorflow.org/)"
      ]
    }
  ]
}
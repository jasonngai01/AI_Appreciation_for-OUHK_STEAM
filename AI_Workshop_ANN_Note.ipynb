{
  "nbformat": 4,
  "nbformat_minor": 0,
  "metadata": {
    "colab": {
      "name": "AI_Workshop_ANN_Note.ipynb",
      "provenance": [],
      "collapsed_sections": [],
      "authorship_tag": "ABX9TyO5xWbEBM/XHzAi6Vus2HrQ",
      "include_colab_link": true
    },
    "kernelspec": {
      "name": "python3",
      "display_name": "Python 3"
    },
    "language_info": {
      "name": "python"
    }
  },
  "cells": [
    {
      "cell_type": "markdown",
      "metadata": {
        "id": "view-in-github",
        "colab_type": "text"
      },
      "source": [
        "<a href=\"https://colab.research.google.com/github/jasonngai01/AI_Appreciation_for-OUHK_STEAM/blob/main/AI_Workshop_ANN_Note.ipynb\" target=\"_parent\"><img src=\"https://colab.research.google.com/assets/colab-badge.svg\" alt=\"Open In Colab\"/></a>"
      ]
    },
    {
      "cell_type": "markdown",
      "metadata": {
        "id": "1EGMGbn2DEm5"
      },
      "source": [
        "##1. What is a Neural Network?\n",
        "\n",
        "The word ‘neural’(神經) comes from neurons and the network suggests a connection between those neurons (神經元). \n",
        "\n",
        "<img src = \"https://www.greycampus.com/rails/active_storage/blobs/eyJfcmFpbHMiOnsibWVzc2FnZSI6IkJBaHBBblN3IiwiZXhwIjpudWxsLCJwdXIiOiJibG9iX2lkIn19--56983f009383d4da73c6b99295bbb36efbca394f/ann%201.jpg\" width = \"400\" />\n",
        "Source: telegraph.co.uk\n",
        "\n",
        "The neural network in AI is based on the concept of biological neural networks (生物神經網絡). \n",
        "\n",
        "In general, our brain is connected with more than 80 billion neurons. The human neural system has three stages: \n",
        "\n",
        "1. Receptors(受體) : receive the stimuli (刺激) and pass the information to the outside environment (外部環境)\n",
        "\n",
        "2. Neural networks(神經網絡): make a decision (決定) for output after processing the input\n",
        "\n",
        "3. Effectors (效應器): translate information of neural networks into a response (反應). \n",
        "\n",
        "<img src = \"https://www.greycampus.com/rails/active_storage/blobs/eyJfcmFpbHMiOnsibWVzc2FnZSI6IkJBaHBBbld3IiwiZXhwIjpudWxsLCJwdXIiOiJibG9iX2lkIn19--277088e029b50fd0f9193c90a5706522b01e801d/ann%202.jpg\" width = \"400\" />\n",
        "Source: neurosciencenews.com\n",
        "\n",
        "The concept of deep learning is also based on a similar approach. \n",
        "\n",
        "We will see the whole concept of neural networking of AI using the Artificial Neural Network (ANN) (人工神經網絡). \n",
        "\n",
        "<img src = \"https://www.greycampus.com/rails/active_storage/blobs/eyJfcmFpbHMiOnsibWVzc2FnZSI6IkJBaHBBbmF3IiwiZXhwIjpudWxsLCJwdXIiOiJibG9iX2lkIn19--6a222fad528c904abfa1b5f62548cd5e40da48d6/ann%203.png\" width = \"400\" />\n",
        "Source: en.wikipedia.org\n",
        "\n"
      ]
    },
    {
      "cell_type": "markdown",
      "metadata": {
        "id": "AXGBabqYDG0K"
      },
      "source": [
        "##2. Application (應用) of Deep Learning (深度學習)\n",
        "\n",
        "\n",
        "<img src = \"https://blogs.mathworks.com/deep-learning/files/2019/05/image1_industry-1024x470.png\" width = \"1000\" />\n",
        "source: mathworks\n",
        "\n",
        "\n",
        "\n",
        "Deep learning has altered our world and its application is widely used in many fields such as:\n",
        "1. image classification (圖像分類)\n",
        "\n",
        "2. speech recognition (語言過渡)\n",
        "\n",
        "3. language transition (語言過渡)\n",
        "\n",
        "4. sentiment analysis (情感分析)\n",
        "\n",
        "5. cancer cell detection (癌細胞檢測) \n",
        "\n",
        "6. diabetic grading  (糖尿病分級)\n",
        "\n",
        "7. drug discovery (藥物發現)\n",
        "\n",
        "8. video search (視頻搜索)\n",
        "\n",
        "9. face detection (人臉檢測)\n",
        "\n",
        "10. video surveillance (視頻監控)\n",
        "\n",
        "11. satellite imagery (衛星圖像)\n",
        "\n",
        "12. pedestrian detection (行人檢測)\n",
        "\n",
        "13. lane tracking (車道跟踪)\n",
        "\n",
        "14. recognition traffic signs (識別交通標誌)\n",
        "\n",
        "These are only a few examples of deep learning. This field is now beyond imagination. \n",
        "\n",
        "\n"
      ]
    },
    {
      "cell_type": "markdown",
      "metadata": {
        "id": "EwzAPUFWDJHp"
      },
      "source": [
        "##3.Artificial Neural Network (人工神經網絡)\n",
        "\n",
        "### 3A. What are ANNs?\n",
        "\n",
        "<img src = \"https://cdn-images-1.medium.com/max/1200/1*-teDpAIho_nzNShRswkfrQ.gif\" width =\"600\" />\n",
        "\n",
        "Artificial neural network (人工神經網絡), in the field of machine learning (機器學習) and cognitive science (認知科學), is a mathematical model (數學模型) or calculation model (計算模型) that imitates (模仿) the structure and function (結構與功能) of biological neural networks, and is used to estimate (估計) or approximate functions.\n",
        "\n",
        "The neural network connects a large number of artificial neurons (人工神經元) for calculation.\n",
        "\n",
        "In most cases, the artificial neural network can change the internal structure on the basis of external information. \n",
        "\n",
        "It is an adaptive system (適應系統) and, in layman's terms, has a learning function (學習功能).\n",
        "\n",
        "\n",
        "\n"
      ]
    },
    {
      "cell_type": "markdown",
      "metadata": {
        "id": "UXI9IIqAVPo7"
      },
      "source": [
        "### 3B: What is ***Neurons***?\n",
        "\n",
        "1. An ANN is comprised of a network of artificial neurons (also known as \"nodes\" (節點)). \n",
        "\n",
        "<img src = \"https://www.softvision.com/wp-content/uploads/2019/01/Neural_Networks_in_your_browser_1.gif\" width =\"600\" />\n",
        "\n",
        "\n",
        "2. These nodes are connected to each other, and the strength of their connections to one another is assigned a value based on their strength: inhibition (抑制) (maximum being -1.0) or excitation (激發) (maximum being +1.0). \n",
        "\n",
        "3. Each neuron takes in some floating point numbers (e.g. 1.0, 0.5, -1.0) and multiplies them by some other floating point numbers (e.g. 0.7, 0.6, 1.4) known as **weights** (權重) (1.0 * 0.7 = 0.7, 0.5 * 0.6 = 0.3, -1.0 * 1.4 = -1.4).  \n",
        "\n",
        "4. If the value of the connection is high, then it indicates that there is a strong connection. \n",
        "\n",
        "5. The weights act as a mechanism (機制) to focus on (專注於), or ignore (忽略), certain inputs.  The weighted inputs then get summed together (相加) (e.g. 0.7 + 0.3 + -1.4 = -0.4) along with a **bias** (偏差) value (e.g. -0.4 + ** -0.1 ** = -0.5).  \n",
        "\n",
        "6. Within each node's design, a transfer function is built in. There are three types of neurons in an ANN, input nodes (輸入節點), hidden nodes (隱藏節點), and output nodes (輸出節點).\n",
        "\n"
      ]
    },
    {
      "cell_type": "markdown",
      "metadata": {
        "id": "wWwV6_VIVXPT"
      },
      "source": [
        "### 3C: Activation Function (激活函數)\n",
        "\n",
        "The summed value (x) is now transformed into an output value (y) according to the neuron's **activation function**  (y = **f**(x)).  \n",
        "\n",
        "Some popular activation functions are shown below: \n",
        "\n",
        "<img src = \"https://cdn-images-1.medium.com/max/1600/1*RD0lIYqB5L2LrI2VTIZqGw.png\" width =\"600\" />\n",
        "\n",
        "It is a thing (node) added after the output of the neural network. \n",
        "\n",
        "That is, the transfer function (轉換函數) can also be added between two layers of neural networks.\n",
        "\n",
        "1. Sigmoid: We use the sigmoid function mainly because its output range is 0 to 1. Therefore, it is often used in models that need to predict probabilities (概率), because the range of probabilities is 0 to 1, and sigmoid fits exactly.\n",
        "\n",
        "2. Tanh is similar to logistic sigmoid, but a bit better. The function of tanh ranges from -1 to 1, and tanh is also S-shaped. The advantage (優勢) is that negative input will be mapped to a negative value (負值), and 0 input will be mapped to a value near 0.\n",
        "\n"
      ]
    },
    {
      "cell_type": "markdown",
      "metadata": {
        "id": "17FM8_uIa3sy"
      },
      "source": [
        "### 3D: Forward Propagation (前向傳播)\n",
        "\n",
        "1. Forward propagation refers to the calculation (計算) and storage (貯存) of intermediate variables (中間變量) (including output) of the model in sequence from the input layer to the output layer of the neural network.\n",
        "\n",
        "2. In larger ANNs with many layers, the neuron's output value would become the input for another neuron.\n",
        "\n",
        "3. The output of the perceptron's neuron (感知器神經元的輸出) acts as the final prediction (最終預測). \n",
        "\n",
        "<img src = \"https://miro.medium.com/max/1192/1*tp73P0isrrfpj8RG-5aH6w.png\" width = \"600\" />\n",
        "\n",
        "\n"
      ]
    },
    {
      "cell_type": "markdown",
      "metadata": {
        "id": "1TnYi8urgLhH"
      },
      "source": [
        "### 3E: Backward Propagation (反向傳播)\n",
        "\n",
        "1. Remember how you studied before? \n",
        "\n",
        "2. When you point to a cat and say it is a puppy, your family will tell you, \"Wrong, this is a cat.\" \n",
        "\n",
        "3. Similarly, if you want Neural Network to be able to learn, you need to define an indicator to measure how well the model learns. \n",
        "\n",
        "4. Check whether the current model fits the training data.\n",
        "\n",
        "5. Generally, there is an objective function when performing machine learning tasks, and the algorithm is to optimize this objective function. \n",
        "\n",
        "> 1. Loss Function (損失函數): Calculate the error of a single data point (單個數據點的錯誤)\n",
        "\n",
        "> 2. Cost Function (成本函數): Calculate the average of the sum of all losses in the entire training set (整個訓練集中所有損失總和的平均值)\n",
        "\n",
        "6. Therefore, the training of deep learning is the process of minimizing the cost function (最小化成本函數).\n",
        "\n",
        "<img src = \"https://bishwarup307.github.io/images/convbackprop/backprop_cs231n.png\" width =\"600\" />"
      ]
    },
    {
      "cell_type": "markdown",
      "metadata": {
        "id": "VyiNOzB5gK80"
      },
      "source": [
        "###3F: Training Neural Networks (訓練神經網絡)\n",
        "\n",
        "1. When training a deep learning model, forward propagation and back propagation depend on each other.\n",
        "\n",
        "2. On the one hand, the calculation of the forward propagation may depend on the current values ​​of the model parameters, and these model parameters are iterated through the optimization algorithm (優化算法) after the gradient calculation (梯度計算) of the back propagation.\n",
        "\n",
        "3. On the other hand, the gradient calculation of backpropagation may depend on the current value of each variable, and the current value of these variables is calculated by forward propagation.\n",
        "\n",
        "4. Therefore, after the initialization (初始化) of the model parameters is completed, we alternate (變換) forward and back propagation, and iterate (重複) the model parameters according to the gradient calculated by the back propagation.\n",
        "<img src = \"https://i.imgur.com/FODQsVm.gif\" width = \"600\" />\n",
        "\n"
      ]
    },
    {
      "cell_type": "markdown",
      "metadata": {
        "id": "J8ST59XKb7we"
      },
      "source": [
        "###Supplementary: TensorFlow Playground \n",
        "\n",
        "TensorFlow Playground is an interactive visualization (交互式可視化) of neural networks, written in typescript using d3.js. \n",
        "\n",
        "It contains a tiny neural network library that meets the demands of this educational visualization. \n",
        "\n",
        "You can simulate (模擬) , in real time, in your browser, small neural networks and see the results.\n",
        "\n",
        "[TensorFlow Playground](https://playground.tensorflow.org/)"
      ]
    },
    {
      "cell_type": "markdown",
      "metadata": {
        "id": "nesXNj-w_nR1"
      },
      "source": [
        "#Example: Artificial Neural Networks (ANNs) of Weather of Hong Kong\n",
        "\n",
        "<img src=\"https://i.imgur.com/vvSoAzg.jpg\" alt=\"classification_regression\" width=\"600\"/>\n",
        "\n",
        "1. In this tutorial we look at what an artificial neural network (ANN) is by building a AI Weather Predictor (人工智能天氣預報).\n",
        "\n",
        "2. We then extend this to a different layered, fully connected ANN and attempt the classification task again to check the model accuracy and loss (模型準確率和損失) . \n",
        "\n",
        "3. Also, we are going to play with some of its basic hyperparameters (超參數) (number of layers (層數), neurons per layer (每層神經元), number of epochs (時代數), activation functions, etc) until it learns to predict at a satisfactory level."
      ]
    },
    {
      "cell_type": "markdown",
      "metadata": {
        "id": "f2f_q5ZEEJ0K"
      },
      "source": [
        "## Step 1: Dataset Preparation (數據集準備)\n",
        "\n",
        " "
      ]
    },
    {
      "cell_type": "markdown",
      "metadata": {
        "id": "Szdxst_DN7EI"
      },
      "source": [
        "###Step 1A: Download the dataset from Kaggle (從 Kaggle 下載數據集)\n",
        "1. Go to the below website and download the the Hong Kong Weather dataset from **Kaggle**.\n",
        "\n",
        "<img src = \"http://www.endtoend.ai/assets/blog/tutorial/kaggle-dataset-ubuntu/kaggle.png\" width =\"400\" />\n",
        "\n",
        "**Kaggle** is a data modeling and data analysis competition platform. \n",
        "\n",
        "Companies and researchers can publish data on it, and statisticians and data mining (數據挖掘) experts can compete on it to produce the best model.\n",
        "\n",
        "[Hong Kong Weather Dataset from Kaggle](https://www.kaggle.com/hindy51/hong-kong-weather-20082016)\n",
        "\n"
      ]
    },
    {
      "cell_type": "markdown",
      "metadata": {
        "id": "U6EDN17HKfgO"
      },
      "source": [
        "**You can download the Modified Dataset at below link:**\n",
        "\n",
        "[連結文字](https://)"
      ]
    },
    {
      "cell_type": "markdown",
      "metadata": {
        "id": "e32JEe1vgwDq"
      },
      "source": [
        "###Step 1B: Data labelling and encoding (數據標記和編碼)\n",
        "\n",
        "1. In the original dataset from Kaggle, you can find the last second column is the rainfall. \n",
        "\n",
        "2. Change the rainfall (雨量) into a into a individual column with One hot encoding format. please refer to the below example.\n",
        "\n",
        "<img src = \"https://miro.medium.com/max/700/1*ZFCX83XaMNzOAXRxAcvMJw.png\" width =\"800\" />\n",
        "\n",
        "source: Pat Huang\n",
        "\n"
      ]
    },
    {
      "cell_type": "markdown",
      "metadata": {
        "id": "QfMuGHDzg9AW"
      },
      "source": [
        "###Step 1C: Upload Dataset (上傳數據集)\n",
        "\n",
        "1. Upload the dataset csv file to the drive using the below code. "
      ]
    },
    {
      "cell_type": "code",
      "metadata": {
        "colab": {
          "resources": {
            "http://localhost:8080/nbextensions/google.colab/files.js": {
              "data": "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",
              "ok": true,
              "headers": [
                [
                  "content-type",
                  "application/javascript"
                ]
              ],
              "status": 200,
              "status_text": ""
            }
          },
          "base_uri": "https://localhost:8080/",
          "height": 40
        },
        "id": "WZScHn-IYfAi",
        "outputId": "9f248222-c6fa-4338-a641-aae7e3e4987a"
      },
      "source": [
        "# upload the dataset from local to google drive\n",
        "from google.colab import files\n",
        "\n",
        "uploaded = files.upload()\n",
        "\n",
        "for fn in uploaded.keys():\n",
        "  print('User uploaded file \"{name}\" with length {length} bytes'.format(\n",
        "      name=fn, length=len(uploaded[fn])))"
      ],
      "execution_count": null,
      "outputs": [
        {
          "output_type": "display_data",
          "data": {
            "text/html": [
              "\n",
              "     <input type=\"file\" id=\"files-e7c11406-aef2-4442-b0d3-a4da4d6ad13d\" name=\"files[]\" multiple disabled\n",
              "        style=\"border:none\" />\n",
              "     <output id=\"result-e7c11406-aef2-4442-b0d3-a4da4d6ad13d\">\n",
              "      Upload widget is only available when the cell has been executed in the\n",
              "      current browser session. Please rerun this cell to enable.\n",
              "      </output>\n",
              "      <script src=\"/nbextensions/google.colab/files.js\"></script> "
            ],
            "text/plain": [
              "<IPython.core.display.HTML object>"
            ]
          },
          "metadata": {
            "tags": []
          }
        }
      ]
    },
    {
      "cell_type": "markdown",
      "metadata": {
        "id": "nSwImUpcYo2Z"
      },
      "source": [
        "##Step 2: Importing The Libraries (導入庫)\n",
        "\n",
        "1. A Python library is a piece of code that is reusable which you might want to incorporate (包含) in your programs/ projects. \n",
        "\n",
        "2. The broad (廣泛的) collections of Python libraries for machine learning clarify the development expenses and decrease the development time. \n",
        "\n",
        "\n",
        "<img src = \"https://citrusbug.com/storage/uploads/blog/Python%20Libraries/Top-Python-Libraries.jpg\" width= \"600\" />\n",
        "\n",
        "Source: citrusbug\n",
        "\n",
        "1. NumPy: NumPy or Numerical Python is linear algebra (線性代數) produced in Python. \n",
        "\n",
        "2. Scikit-learn: Scikit-learn is another notable open-source Python machine learning library with a wide series, which includes clustering (聚類), regression (回歸) and classification (分類) algorithms.\n",
        "\n",
        "3. TensorFlow: TensorFlow is a python machine learning library for delivering high-end numerical calculations (高端數值計算). TensorFlow can manage deep neural networks for image identification (圖像識別), handwritten digit distribution (手寫數字分佈, recurrent neural networks (循環神經網絡), NLP (Natural Language Processing) (自然語言處理), word embedding (詞嵌入) and PDE (Partial Differential Equation) (偏微分方程). \n",
        "\n",
        "4. Keras: Keras is an advanced open-source Python library formulated (制定) for building neural networks and machine learning projects. It provides nearly all standalone modules, including optimizers (優化器), neural layers (神經層), activation purposes (激活), initialization systems (初始化系統), cost functions (成本函數) and regularization systems (正則化). \n",
        "\n",
        "5. Pandas: In machine learning projects, a significant amount of time is used on preparing the data as well as examining fundamental trends & patterns (檢查基本趨勢和模式). \n",
        "\n",
        "\n",
        "\n"
      ]
    },
    {
      "cell_type": "code",
      "metadata": {
        "id": "5ePLDVinYp_F"
      },
      "source": [
        "# import the library \n",
        "\n",
        "import numpy as np\n",
        "import pandas as pd\n",
        "import tensorflow as tf\n",
        "from keras.layers import Dense\n",
        "from keras.models import Sequential"
      ],
      "execution_count": null,
      "outputs": []
    },
    {
      "cell_type": "markdown",
      "metadata": {
        "id": "d8kugJDkYxNV"
      },
      "source": [
        "##Step 3: Data Preprocessing (數據預處理)\n",
        "\n",
        "<img src =\"https://sciencenotes.org/wp-content/uploads/2020/05/IndependentDependent.png\" width =\"600\" />\n",
        "\n",
        "source: Science Note\n",
        "\n",
        "1. Every dataset comes with a different challenge (挑戰). \n",
        "\n",
        "2. The most common challenge in data preprocessing is the exclusion of inconsequential columns (排除無關緊要的列) and conversion of categorical data (分類數據的轉換), such as gender into 0 and 1. \n",
        "\n",
        "3. The current weather dataset only requires separation of independent (X) and dependent (y) variables. \n",
        "\n",
        "4. Pandas library was used to read the dataset and the formation of dependent and independent variables. "
      ]
    },
    {
      "cell_type": "code",
      "metadata": {
        "id": "PmLdBXDSYyjb",
        "colab": {
          "base_uri": "https://localhost:8080/",
          "height": 376
        },
        "outputId": "ff9def63-62c0-4848-ce29-f07318c6ad30"
      },
      "source": [
        "# open the dataset\n",
        "# 打開數據集\n",
        "dataset = pd.read_csv('/content/hk_weather.csv')\n",
        "\n",
        "print(\"type of df\",type(dataset))\n",
        "\n",
        "# show the first 10 items of dataset\n",
        "# 顯示數據集的前 10 項\n",
        "dataset.head(10)\n",
        "\n"
      ],
      "execution_count": null,
      "outputs": [
        {
          "output_type": "stream",
          "text": [
            "type of df <class 'pandas.core.frame.DataFrame'>\n"
          ],
          "name": "stdout"
        },
        {
          "output_type": "execute_result",
          "data": {
            "text/html": [
              "<div>\n",
              "<style scoped>\n",
              "    .dataframe tbody tr th:only-of-type {\n",
              "        vertical-align: middle;\n",
              "    }\n",
              "\n",
              "    .dataframe tbody tr th {\n",
              "        vertical-align: top;\n",
              "    }\n",
              "\n",
              "    .dataframe thead th {\n",
              "        text-align: right;\n",
              "    }\n",
              "</style>\n",
              "<table border=\"1\" class=\"dataframe\">\n",
              "  <thead>\n",
              "    <tr style=\"text-align: right;\">\n",
              "      <th></th>\n",
              "      <th>mean_temp</th>\n",
              "      <th>grass_min_temp</th>\n",
              "      <th>max_temp</th>\n",
              "      <th>mean_amount_of_cloud</th>\n",
              "      <th>mean_dew_point_temp</th>\n",
              "      <th>mean_wet_bulb_temp</th>\n",
              "      <th>min_temp</th>\n",
              "      <th>pressure</th>\n",
              "      <th>rh</th>\n",
              "      <th>month</th>\n",
              "      <th>rain</th>\n",
              "    </tr>\n",
              "  </thead>\n",
              "  <tbody>\n",
              "    <tr>\n",
              "      <th>0</th>\n",
              "      <td>17.7</td>\n",
              "      <td>12.4</td>\n",
              "      <td>20.7</td>\n",
              "      <td>32</td>\n",
              "      <td>13.4</td>\n",
              "      <td>15.2</td>\n",
              "      <td>15.5</td>\n",
              "      <td>1018.7</td>\n",
              "      <td>77</td>\n",
              "      <td>1</td>\n",
              "      <td>0</td>\n",
              "    </tr>\n",
              "    <tr>\n",
              "      <th>1</th>\n",
              "      <td>19.5</td>\n",
              "      <td>12.8</td>\n",
              "      <td>22.9</td>\n",
              "      <td>44</td>\n",
              "      <td>14.1</td>\n",
              "      <td>16.4</td>\n",
              "      <td>17.2</td>\n",
              "      <td>1018.6</td>\n",
              "      <td>72</td>\n",
              "      <td>1</td>\n",
              "      <td>0</td>\n",
              "    </tr>\n",
              "    <tr>\n",
              "      <th>2</th>\n",
              "      <td>18.8</td>\n",
              "      <td>14.7</td>\n",
              "      <td>21.2</td>\n",
              "      <td>35</td>\n",
              "      <td>13.3</td>\n",
              "      <td>15.7</td>\n",
              "      <td>17.5</td>\n",
              "      <td>1019.2</td>\n",
              "      <td>71</td>\n",
              "      <td>1</td>\n",
              "      <td>0</td>\n",
              "    </tr>\n",
              "    <tr>\n",
              "      <th>3</th>\n",
              "      <td>17.9</td>\n",
              "      <td>13.8</td>\n",
              "      <td>20.7</td>\n",
              "      <td>20</td>\n",
              "      <td>13.1</td>\n",
              "      <td>15.2</td>\n",
              "      <td>16.1</td>\n",
              "      <td>1020.6</td>\n",
              "      <td>74</td>\n",
              "      <td>1</td>\n",
              "      <td>0</td>\n",
              "    </tr>\n",
              "    <tr>\n",
              "      <th>4</th>\n",
              "      <td>14.7</td>\n",
              "      <td>13.1</td>\n",
              "      <td>18.2</td>\n",
              "      <td>66</td>\n",
              "      <td>7.4</td>\n",
              "      <td>11.1</td>\n",
              "      <td>11.8</td>\n",
              "      <td>1026.0</td>\n",
              "      <td>62</td>\n",
              "      <td>1</td>\n",
              "      <td>1</td>\n",
              "    </tr>\n",
              "    <tr>\n",
              "      <th>5</th>\n",
              "      <td>13.8</td>\n",
              "      <td>9.5</td>\n",
              "      <td>16.9</td>\n",
              "      <td>63</td>\n",
              "      <td>6.7</td>\n",
              "      <td>10.3</td>\n",
              "      <td>10.4</td>\n",
              "      <td>1025.6</td>\n",
              "      <td>63</td>\n",
              "      <td>1</td>\n",
              "      <td>0</td>\n",
              "    </tr>\n",
              "    <tr>\n",
              "      <th>6</th>\n",
              "      <td>14.4</td>\n",
              "      <td>9.3</td>\n",
              "      <td>18.0</td>\n",
              "      <td>65</td>\n",
              "      <td>7.3</td>\n",
              "      <td>10.9</td>\n",
              "      <td>11.8</td>\n",
              "      <td>1022.9</td>\n",
              "      <td>62</td>\n",
              "      <td>1</td>\n",
              "      <td>0</td>\n",
              "    </tr>\n",
              "    <tr>\n",
              "      <th>7</th>\n",
              "      <td>15.7</td>\n",
              "      <td>12.6</td>\n",
              "      <td>18.8</td>\n",
              "      <td>83</td>\n",
              "      <td>9.3</td>\n",
              "      <td>12.4</td>\n",
              "      <td>13.7</td>\n",
              "      <td>1021.2</td>\n",
              "      <td>66</td>\n",
              "      <td>1</td>\n",
              "      <td>0</td>\n",
              "    </tr>\n",
              "    <tr>\n",
              "      <th>8</th>\n",
              "      <td>15.7</td>\n",
              "      <td>14.9</td>\n",
              "      <td>16.7</td>\n",
              "      <td>87</td>\n",
              "      <td>11.5</td>\n",
              "      <td>13.5</td>\n",
              "      <td>14.6</td>\n",
              "      <td>1021.1</td>\n",
              "      <td>76</td>\n",
              "      <td>1</td>\n",
              "      <td>0</td>\n",
              "    </tr>\n",
              "    <tr>\n",
              "      <th>9</th>\n",
              "      <td>13.8</td>\n",
              "      <td>10.0</td>\n",
              "      <td>16.0</td>\n",
              "      <td>69</td>\n",
              "      <td>6.4</td>\n",
              "      <td>10.3</td>\n",
              "      <td>11.6</td>\n",
              "      <td>1023.1</td>\n",
              "      <td>61</td>\n",
              "      <td>1</td>\n",
              "      <td>0</td>\n",
              "    </tr>\n",
              "  </tbody>\n",
              "</table>\n",
              "</div>"
            ],
            "text/plain": [
              "   mean_temp  grass_min_temp  max_temp  ...  rh  month  rain\n",
              "0       17.7            12.4      20.7  ...  77      1     0\n",
              "1       19.5            12.8      22.9  ...  72      1     0\n",
              "2       18.8            14.7      21.2  ...  71      1     0\n",
              "3       17.9            13.8      20.7  ...  74      1     0\n",
              "4       14.7            13.1      18.2  ...  62      1     1\n",
              "5       13.8             9.5      16.9  ...  63      1     0\n",
              "6       14.4             9.3      18.0  ...  62      1     0\n",
              "7       15.7            12.6      18.8  ...  66      1     0\n",
              "8       15.7            14.9      16.7  ...  76      1     0\n",
              "9       13.8            10.0      16.0  ...  61      1     0\n",
              "\n",
              "[10 rows x 11 columns]"
            ]
          },
          "metadata": {
            "tags": []
          },
          "execution_count": 3
        }
      ]
    },
    {
      "cell_type": "code",
      "metadata": {
        "colab": {
          "base_uri": "https://localhost:8080/"
        },
        "id": "dmcKYNwZuyTC",
        "outputId": "35ca2321-06bd-4cab-cc39-a6c21e7ce2bd"
      },
      "source": [
        "# make the temperture, etc, be the independent (X)\n",
        "# 使溫度等參數獨立（X）\n",
        "\n",
        "# show exclude last column with values.\n",
        "# 顯示最後一列以外的值。\n",
        "\n",
        "\n",
        "X = dataset.iloc[:,0:-1]. values\n",
        "\n",
        "print(X[0])\n",
        "print(X[1])\n",
        "print(X[2])\n",
        "print(X[3])\n",
        "print(X[4])"
      ],
      "execution_count": null,
      "outputs": [
        {
          "output_type": "stream",
          "text": [
            "[1.7700e+01 1.2400e+01 2.0700e+01 3.2000e+01 1.3400e+01 1.5200e+01\n",
            " 1.5500e+01 1.0187e+03 7.7000e+01 1.0000e+00]\n",
            "[1.9500e+01 1.2800e+01 2.2900e+01 4.4000e+01 1.4100e+01 1.6400e+01\n",
            " 1.7200e+01 1.0186e+03 7.2000e+01 1.0000e+00]\n",
            "[1.8800e+01 1.4700e+01 2.1200e+01 3.5000e+01 1.3300e+01 1.5700e+01\n",
            " 1.7500e+01 1.0192e+03 7.1000e+01 1.0000e+00]\n",
            "[1.7900e+01 1.3800e+01 2.0700e+01 2.0000e+01 1.3100e+01 1.5200e+01\n",
            " 1.6100e+01 1.0206e+03 7.4000e+01 1.0000e+00]\n",
            "[1.470e+01 1.310e+01 1.820e+01 6.600e+01 7.400e+00 1.110e+01 1.180e+01\n",
            " 1.026e+03 6.200e+01 1.000e+00]\n"
          ],
          "name": "stdout"
        }
      ]
    },
    {
      "cell_type": "code",
      "metadata": {
        "colab": {
          "base_uri": "https://localhost:8080/"
        },
        "id": "bx1PAfCQtCtf",
        "outputId": "b39ac8e0-4f85-417b-c363-a8a405a6f517"
      },
      "source": [
        "# make the rain be the dependent (y)\n",
        "# show the last 4 column with values.\n",
        "\n",
        "y = dataset.iloc[:,-1:]. values\n",
        "print(y[0])\n",
        "print(y[1])\n",
        "print(y[2])\n",
        "print(y[3])\n",
        "                "
      ],
      "execution_count": null,
      "outputs": [
        {
          "output_type": "stream",
          "text": [
            "[0]\n",
            "[0]\n",
            "[0]\n",
            "[0]\n"
          ],
          "name": "stdout"
        }
      ]
    },
    {
      "cell_type": "markdown",
      "metadata": {
        "id": "kvTNttrfZJsb"
      },
      "source": [
        "##Step 4: Splitting the Dataset into the Training set and Test set (將數據集拆分為訓練集和測試集)\n",
        "\n",
        "<img src =\"https://miro.medium.com/max/1838/1*Xa1_gnLz8Pg6EfKwR3jz1A.jpeg\" width = \"600\" />\n",
        "\n",
        "1. Splitting of the dataset into training and test sets is necessary. \n",
        "\n",
        "2. The training set is used to apply the machine learning model. \n",
        "\n",
        "3. Hence, a large portion of data (大部分數據) is randomly selected as a training set from the whole dataset. \n",
        "\n",
        "4. Here, 80% of data is selected as a training set (test_size = 0.2). \n",
        "\n",
        "5. The random state is required to achieve a similar splitting of dataset each \n",
        "time we run ANN. \n",
        "\n",
        "6. The test set is used to evaluate the model (評估模型). \n",
        "\n",
        "7. Scikit library is required to split the dataset.    "
      ]
    },
    {
      "cell_type": "code",
      "metadata": {
        "id": "SQu7C74gZMEf"
      },
      "source": [
        "# split the dataset into training and test sets\n",
        "# 將數據集拆分為訓練集和測試集\n",
        "\n",
        "# change the ration in test_size\n",
        "# 改變 test_size 中的配給\n",
        "\n",
        "from sklearn.model_selection import train_test_split\n",
        "X_train, X_test, y_train, y_test = train_test_split(X,y, test_size = 0.2, random_state = 0)"
      ],
      "execution_count": null,
      "outputs": []
    },
    {
      "cell_type": "markdown",
      "metadata": {
        "id": "YcwjDgDNZi18"
      },
      "source": [
        "##Step 5: Feature Scaling (特徵縮放)\n",
        "\n",
        "<img src =\"https://d1zx6djv3kb1v7.cloudfront.net/wp-content/media/2019/09/Feature-Scaling-i2tutorials.png\" width =\"400\" />\n",
        "\n",
        "1. Feature scaling is performed to ***normalize*** (歸一化) or ***standardized***(標準化) all independent variables. \n",
        "\n",
        "2. Some variables, such as age and salary are totally on different scales, hence may have a different effect on Euclidean distance. \n",
        "\n",
        "3. Therefore, all independent variables should be on the same scale (相同的規模). \n",
        "\n",
        "4. If we perform feature scaling before splitting the dataset, the mean value of the whole data set will influence (影響) the result. \n",
        "\n",
        "5. Hence, feature scaling should be done after scaling the data set.  "
      ]
    },
    {
      "cell_type": "code",
      "metadata": {
        "id": "4aSq5JHDZn36"
      },
      "source": [
        "from sklearn.preprocessing import StandardScaler\n",
        "sc = StandardScaler()\n",
        "X_train=sc.fit_transform(X_train)\n",
        "X_test=sc.transform(X_test)"
      ],
      "execution_count": null,
      "outputs": []
    },
    {
      "cell_type": "markdown",
      "metadata": {
        "id": "kRlWBLkpZm-k"
      },
      "source": [
        "##Step 6: Building the ANN model (構建 ANN 模型)\n",
        "\n",
        "<img src = \"https://miro.medium.com/max/791/1*4PQOnabj78avPB2Mikk5GQ.jpeg\" width = \"600\" />\n",
        "\n",
        "source: shreyak"
      ]
    },
    {
      "cell_type": "markdown",
      "metadata": {
        "id": "97A-VG3YHQqN"
      },
      "source": [
        "###Step 6.1: Initializing the ANN (初始化人工神經網絡)\n",
        "\n",
        "1. Create a sequential model (順序模型). \n",
        "\n",
        "2. Keras library is now integrated into the new version of TensorFlow (2.0). \n",
        "\n",
        "3. Sequential class is used to initialize the ANN as a sequence of layers.   \n",
        "\n"
      ]
    },
    {
      "cell_type": "code",
      "metadata": {
        "id": "_nOjppHmaBsO"
      },
      "source": [
        "# initialize the model\n",
        "\n",
        "model = tf.keras.models.Sequential()\n"
      ],
      "execution_count": null,
      "outputs": []
    },
    {
      "cell_type": "markdown",
      "metadata": {
        "id": "LrDp_-EHaMB2"
      },
      "source": [
        "###Step 6.2: Adding the Input Layer and the First Hidden Layer (添加輸入層和第一個隱藏層)\n",
        "\n",
        "1. There are several steps to form of sequence layers for ANN. \n",
        "\n",
        "2. Adding the input layer and the hidden layer by using a dense class. \n",
        "\n",
        "3. Dense (密集) class is used in whatever phase of the neural network. \n",
        "\n",
        "4. Here, the \"add\" method is used to add anything such as a hidden layer from the sequential class using the ‘ann’ variable created in the previous step. \n",
        "\n",
        "5. The layer module is used to add classes, which means layers are added in ANN. \n",
        "\n",
        "6. The number of units here suggests a number of hidden neurons or hidden layers. \n",
        "\n",
        "7. The input neurons or layers are all of our independent variables. "
      ]
    },
    {
      "cell_type": "code",
      "metadata": {
        "id": "SAZan3CVaPm8"
      },
      "source": [
        "# add the input layer and the first hidden layer\n",
        "# input the input_dim with the number of the symptom (independent X)\n",
        "\n",
        "model.add(tf.keras.layers.Dense(units=10, activation = 'relu', input_dim=10))"
      ],
      "execution_count": null,
      "outputs": []
    },
    {
      "cell_type": "markdown",
      "metadata": {
        "id": "xmHoVPZ3aZf9"
      },
      "source": [
        "###Step 6.3: Adding the Second Hidden Layer (添加第二個隱藏層)\n",
        "\n",
        "The next step is adding the second hidden layer. "
      ]
    },
    {
      "cell_type": "markdown",
      "metadata": {
        "id": "gL4XnzWUaNnW"
      },
      "source": [
        "**The next most important question in ANN is how many hidden layers you want?** (ANN 中需要多少個隱藏層？)\n",
        "\n",
        "1. There is no specific rule (沒有具體規定) to choose a number of units. \n",
        "\n",
        "2. It is experimentally based (以實驗為基礎). \n",
        "\n",
        "3. You have to use different hyperparameters. \n",
        "\n",
        "3. Here, you can make several trials. \n",
        "\n",
        "4. There are many functions that may require based on different approaches. \n",
        "\n",
        "<img src =\"https://www.researchgate.net/profile/Muhammad-Hamdan-8/publication/327435257/figure/fig4/AS:742898131812354@1554132125449/Activation-Functions-ReLU-Tanh-Sigmoid.ppm\" width =\"600\" /> \n",
        "\n"
      ]
    },
    {
      "cell_type": "code",
      "metadata": {
        "id": "fH_ogf8KabkM"
      },
      "source": [
        "# add the second hidden layer\n",
        "# 添加第二個隱藏層\n",
        "\n",
        "model.add(tf.keras.layers.Dense(units=10, activation = 'relu'))"
      ],
      "execution_count": null,
      "outputs": []
    },
    {
      "cell_type": "markdown",
      "metadata": {
        "id": "2xm8G96qaqcH"
      },
      "source": [
        "\n",
        "###Step 6.4: Adding the output layer (添加輸出層)\n",
        "\n",
        "<img src = \"https://miro.medium.com/max/3000/1*-eLjPY7UGSoQhSyW5qC6gw.gif\" width = \"600\" />\n",
        "\n",
        "1. Adding the output layer in ANN is slightly different than adding a hidden layer. \n",
        "\n",
        "2. It is important to know the dimension of the output layer. \n",
        "\n",
        "3. In this dataset, you will be predicting binary (預測二進制) variables (0 or 1), hence dimension is one. \n",
        "\n",
        "4. It means you just need one neuron to predict the final output. \n",
        "\n",
        "5. Remember, this is an example of a classification approach. \n",
        "\n",
        "6. Another important change in this layer is the activation function. \n",
        "\n",
        "7. Here, you can see the use of the **sigmoid** function.\n",
        "\n",
        "8. Hence, you will get the prediction that if someone is having kind of dieases or not, including their probabilities. \n",
        "\n",
        "9. Now all layers required for ANN are ready. "
      ]
    },
    {
      "cell_type": "code",
      "metadata": {
        "id": "JaZHh39_at0K"
      },
      "source": [
        "# add the output layer\n",
        "\n",
        "model.add(tf.keras.layers.Dense(units=1, activation = 'sigmoid'))"
      ],
      "execution_count": null,
      "outputs": []
    },
    {
      "cell_type": "markdown",
      "metadata": {
        "id": "Dm3iu2o3a7sE"
      },
      "source": [
        "##Step 7: Training the ANN model (訓練 ANN 模型)\n",
        "\n",
        "This step is to train the created model on our training set. "
      ]
    },
    {
      "cell_type": "markdown",
      "metadata": {
        "id": "z_EsGS2ua9lh"
      },
      "source": [
        "###Step 7.1: Compiling the ANN (編譯人工神經網絡)\n",
        "\n",
        "1. Compile the ANN with an optimizer (優化器), lost function (損失函數), and metrics (指標). \n",
        "\n",
        "2. Here, in metrics, you are using accuracy function, as you are using classification (binary dependent variables). \n",
        "\n",
        "3. The first argument is the optimizer (優化器). The optimizer is used for the optimization algorithm (優化算法) we want to use to find the optimal set of weights (最佳權重集) in the neural networks.\n",
        "\n",
        "4. The lost function is not the sum of squares square errors (平方誤差) like for linear regression (線性回歸). When the weights are updated (更新權重) after each observation or after each batch of many observations the algorithm uses this accuracy criterion to improve the model’s performance (精度標準來提高模型的性能). "
      ]
    },
    {
      "cell_type": "code",
      "metadata": {
        "id": "ZVx5lwVQbBd6"
      },
      "source": [
        "# compile the ANN model\n",
        "\n",
        "model.compile(optimizer = 'adam', loss = 'binary_crossentropy', metrics = ['accuracy'])"
      ],
      "execution_count": null,
      "outputs": []
    },
    {
      "cell_type": "code",
      "metadata": {
        "colab": {
          "base_uri": "https://localhost:8080/"
        },
        "id": "EPkqPbxW-4os",
        "outputId": "a85fec48-b2ba-4223-9812-ae8f05dbedb1"
      },
      "source": [
        "# view the summary of the hidden layer\n",
        "# 查看隱藏層的摘要\n",
        "\n",
        "model.summary()"
      ],
      "execution_count": null,
      "outputs": [
        {
          "output_type": "stream",
          "text": [
            "Model: \"sequential\"\n",
            "_________________________________________________________________\n",
            "Layer (type)                 Output Shape              Param #   \n",
            "=================================================================\n",
            "dense (Dense)                (None, 10)                110       \n",
            "_________________________________________________________________\n",
            "dense_1 (Dense)              (None, 10)                110       \n",
            "_________________________________________________________________\n",
            "dense_2 (Dense)              (None, 1)                 11        \n",
            "=================================================================\n",
            "Total params: 231\n",
            "Trainable params: 231\n",
            "Non-trainable params: 0\n",
            "_________________________________________________________________\n"
          ],
          "name": "stdout"
        }
      ]
    },
    {
      "cell_type": "markdown",
      "metadata": {
        "id": "onC4QQhQaFmT"
      },
      "source": [
        "**Question:What is *\"Param #'* ?　How to calculate the \"Param #\" in the whole ANN model**\n"
      ]
    },
    {
      "cell_type": "markdown",
      "metadata": {
        "id": "S_jDYedWbfbS"
      },
      "source": [
        "### Step 7.2: Training the ANN on the Training set (在訓練集上訓練 ANN)\n",
        "\n",
        "1. Fitting the ANN of the training dataset ((擬合訓練數據集). \n",
        "2. Two arguments (參數) in this example are used to fit the training model, epochs, and batch size. \n",
        "\n",
        "3. The sample size (樣本量) for the diabetes dataset is nearly 40,000. Batch size 5000 suggests the number of samples processed before our ANN model is updated. "
      ]
    },
    {
      "cell_type": "markdown",
      "metadata": {
        "id": "lz5GXhEOaXeF"
      },
      "source": [
        "**What is *Batch Size* (批量大小)?**\n",
        "\n",
        "<img src =\"https://pic1.zhimg.com/v2-99f79d5767bdcaee77bfc5af353675f1_720w.jpg?source=172ae18b\" width =\"600\"/>\n",
        "\n",
        "1. The batch size defines the number of samples (樣本數) that will be propagated (傳播) through the network. \n",
        "\n",
        "2. For instance, let's say you have 1000 training samples and you want to set up a batch_size equal to 100. \n",
        "\n",
        "3. The algorithm takes the first 100 samples (from 1st to 100th) from the training dataset and trains the network. \n",
        "\n",
        "4. Next, it takes the second 100 samples (from 101st to 200th) and trains the network again. \n",
        "\n",
        "5. We can keep doing this procedure until we have propagated all samples through of the network. \n"
      ]
    },
    {
      "cell_type": "markdown",
      "metadata": {
        "id": "pwFmUiT8adEP"
      },
      "source": [
        "**What is *Epochs* (時期)?**\n",
        "\n",
        "<img src =\"https://miro.medium.com/max/2732/1*DToc0STVr1RPJ37mkL3Jcg.png\"　width = \"800\" />\n",
        "\n",
        "1. Epoch refers to one cycle through the full training dataset. (一個epoch是指把所有訓練數據完整的過一遍)\n",
        "\n",
        "2. Usually, training a neural network takes more than a few epochs. \n",
        "\n",
        "3. In other words, if we feed a neural network the training data for more than one epoch in different patterns, we hope for a better generalization when given a new \"unseen\" input (test data). \n",
        "\n",
        "4. An epoch is often mixed up with an iteration (迭代). \n",
        "\n",
        "5. Iterations is the number of batches or steps through partitioned packets of the training data, needed to complete one epoch. (表示1次迭代（也叫training step），每次迭代更新1次網絡結構的參數) "
      ]
    },
    {
      "cell_type": "code",
      "metadata": {
        "colab": {
          "base_uri": "https://localhost:8080/"
        },
        "id": "D2b4Sr-WbwFS",
        "outputId": "169c1544-7e1f-4b48-cd85-b7228cb91704"
      },
      "source": [
        "# train the ANN model\n",
        "# 訓練ANN模型\n",
        "\n",
        "# input the batch_size and epochs\n",
        "# 輸入batch_size 和epochs\n",
        "\n",
        "r = model.fit(X_train, y_train, batch_size = 50, epochs = 50)"
      ],
      "execution_count": null,
      "outputs": [
        {
          "output_type": "stream",
          "text": [
            "Epoch 1/50\n",
            "291/291 [==============================] - 1s 2ms/step - loss: 0.4737 - accuracy: 0.7909\n",
            "Epoch 2/50\n",
            "291/291 [==============================] - 0s 2ms/step - loss: 0.4028 - accuracy: 0.8151\n",
            "Epoch 3/50\n",
            "291/291 [==============================] - 0s 2ms/step - loss: 0.3980 - accuracy: 0.8176\n",
            "Epoch 4/50\n",
            "291/291 [==============================] - 0s 1ms/step - loss: 0.3941 - accuracy: 0.8174\n",
            "Epoch 5/50\n",
            "291/291 [==============================] - 0s 2ms/step - loss: 0.3903 - accuracy: 0.8179\n",
            "Epoch 6/50\n",
            "291/291 [==============================] - 1s 2ms/step - loss: 0.3877 - accuracy: 0.8187\n",
            "Epoch 7/50\n",
            "291/291 [==============================] - 0s 1ms/step - loss: 0.3850 - accuracy: 0.8182\n",
            "Epoch 8/50\n",
            "291/291 [==============================] - 0s 2ms/step - loss: 0.3831 - accuracy: 0.8194\n",
            "Epoch 9/50\n",
            "291/291 [==============================] - 0s 2ms/step - loss: 0.3814 - accuracy: 0.8188\n",
            "Epoch 10/50\n",
            "291/291 [==============================] - 0s 1ms/step - loss: 0.3799 - accuracy: 0.8195\n",
            "Epoch 11/50\n",
            "291/291 [==============================] - 0s 1ms/step - loss: 0.3791 - accuracy: 0.8209\n",
            "Epoch 12/50\n",
            "291/291 [==============================] - 0s 1ms/step - loss: 0.3784 - accuracy: 0.8206\n",
            "Epoch 13/50\n",
            "291/291 [==============================] - 0s 1ms/step - loss: 0.3773 - accuracy: 0.8191\n",
            "Epoch 14/50\n",
            "291/291 [==============================] - 0s 2ms/step - loss: 0.3772 - accuracy: 0.8215\n",
            "Epoch 15/50\n",
            "291/291 [==============================] - 0s 2ms/step - loss: 0.3764 - accuracy: 0.8205\n",
            "Epoch 16/50\n",
            "291/291 [==============================] - 0s 1ms/step - loss: 0.3754 - accuracy: 0.8207\n",
            "Epoch 17/50\n",
            "291/291 [==============================] - 0s 1ms/step - loss: 0.3752 - accuracy: 0.8215\n",
            "Epoch 18/50\n",
            "291/291 [==============================] - 0s 1ms/step - loss: 0.3746 - accuracy: 0.8225\n",
            "Epoch 19/50\n",
            "291/291 [==============================] - 0s 2ms/step - loss: 0.3744 - accuracy: 0.8225\n",
            "Epoch 20/50\n",
            "291/291 [==============================] - 0s 2ms/step - loss: 0.3744 - accuracy: 0.8228\n",
            "Epoch 21/50\n",
            "291/291 [==============================] - 0s 1ms/step - loss: 0.3739 - accuracy: 0.8237\n",
            "Epoch 22/50\n",
            "291/291 [==============================] - 0s 1ms/step - loss: 0.3739 - accuracy: 0.8215\n",
            "Epoch 23/50\n",
            "291/291 [==============================] - 0s 2ms/step - loss: 0.3733 - accuracy: 0.8225\n",
            "Epoch 24/50\n",
            "291/291 [==============================] - 0s 2ms/step - loss: 0.3727 - accuracy: 0.8218\n",
            "Epoch 25/50\n",
            "291/291 [==============================] - 0s 1ms/step - loss: 0.3729 - accuracy: 0.8226\n",
            "Epoch 26/50\n",
            "291/291 [==============================] - 0s 2ms/step - loss: 0.3724 - accuracy: 0.8224\n",
            "Epoch 27/50\n",
            "291/291 [==============================] - 0s 1ms/step - loss: 0.3726 - accuracy: 0.8221\n",
            "Epoch 28/50\n",
            "291/291 [==============================] - 0s 1ms/step - loss: 0.3722 - accuracy: 0.8215\n",
            "Epoch 29/50\n",
            "291/291 [==============================] - 0s 2ms/step - loss: 0.3719 - accuracy: 0.8230\n",
            "Epoch 30/50\n",
            "291/291 [==============================] - 0s 2ms/step - loss: 0.3714 - accuracy: 0.8237\n",
            "Epoch 31/50\n",
            "291/291 [==============================] - 0s 2ms/step - loss: 0.3718 - accuracy: 0.8218\n",
            "Epoch 32/50\n",
            "291/291 [==============================] - 0s 1ms/step - loss: 0.3715 - accuracy: 0.8240\n",
            "Epoch 33/50\n",
            "291/291 [==============================] - 0s 2ms/step - loss: 0.3713 - accuracy: 0.8235\n",
            "Epoch 34/50\n",
            "291/291 [==============================] - 0s 1ms/step - loss: 0.3711 - accuracy: 0.8235\n",
            "Epoch 35/50\n",
            "291/291 [==============================] - 0s 1ms/step - loss: 0.3711 - accuracy: 0.8241\n",
            "Epoch 36/50\n",
            "291/291 [==============================] - 0s 2ms/step - loss: 0.3709 - accuracy: 0.8240\n",
            "Epoch 37/50\n",
            "291/291 [==============================] - 0s 1ms/step - loss: 0.3708 - accuracy: 0.8230\n",
            "Epoch 38/50\n",
            "291/291 [==============================] - 0s 2ms/step - loss: 0.3704 - accuracy: 0.8224\n",
            "Epoch 39/50\n",
            "291/291 [==============================] - 0s 2ms/step - loss: 0.3702 - accuracy: 0.8236\n",
            "Epoch 40/50\n",
            "291/291 [==============================] - 0s 2ms/step - loss: 0.3702 - accuracy: 0.8232\n",
            "Epoch 41/50\n",
            "291/291 [==============================] - 0s 2ms/step - loss: 0.3699 - accuracy: 0.8253\n",
            "Epoch 42/50\n",
            "291/291 [==============================] - 0s 2ms/step - loss: 0.3697 - accuracy: 0.8235\n",
            "Epoch 43/50\n",
            "291/291 [==============================] - 0s 1ms/step - loss: 0.3699 - accuracy: 0.8237\n",
            "Epoch 44/50\n",
            "291/291 [==============================] - 0s 2ms/step - loss: 0.3699 - accuracy: 0.8237\n",
            "Epoch 45/50\n",
            "291/291 [==============================] - 0s 1ms/step - loss: 0.3695 - accuracy: 0.8239\n",
            "Epoch 46/50\n",
            "291/291 [==============================] - 0s 2ms/step - loss: 0.3695 - accuracy: 0.8243\n",
            "Epoch 47/50\n",
            "291/291 [==============================] - 0s 1ms/step - loss: 0.3691 - accuracy: 0.8247\n",
            "Epoch 48/50\n",
            "291/291 [==============================] - 0s 1ms/step - loss: 0.3690 - accuracy: 0.8248\n",
            "Epoch 49/50\n",
            "291/291 [==============================] - 0s 2ms/step - loss: 0.3691 - accuracy: 0.8242\n",
            "Epoch 50/50\n",
            "291/291 [==============================] - 0s 2ms/step - loss: 0.3690 - accuracy: 0.8237\n"
          ],
          "name": "stdout"
        }
      ]
    },
    {
      "cell_type": "markdown",
      "metadata": {
        "id": "5YP7pvJiaiaZ"
      },
      "source": [
        "**What is *Loss* and *Accuracy*?**\n",
        "\n",
        "**Loss**\n",
        "\n",
        "1. A loss function is used to optimize a machine learning algorithm (優化機器學習算法). \n",
        "\n",
        "2. The loss is calculated on training and validation (根據訓練和驗證計算) and its interpretation is based on how well the model is doing in these two sets. \n",
        "\n",
        "3. It is the sum of errors made for each example in training or validation sets. \n",
        "\n",
        "4. Loss value implies how poorly or well a model behaves after each iteration of optimization.\n",
        "\n",
        "**Accuracy**\n",
        "\n",
        "1. An accuracy metric is used to measure the algorithm’s performance in an interpretable (可解釋的) way. \n",
        "\n",
        "2. The accuracy of a model is usually determined after the model parameters and is calculated in the form of a percentage (在模型參數之後確定並以百分比的形式計算). \n",
        "\n",
        "3. It is the measure of how accurate your model's prediction is compared to the true data."
      ]
    },
    {
      "cell_type": "markdown",
      "metadata": {
        "id": "s49fXlrhIG5h"
      },
      "source": [
        "## Step 8: Check the loss & accuracy of the trained model (檢查訓練模型的損失和準確性)\n",
        "\n",
        "Visualise the loss and accuracy with graphes. (用圖表可視化損失和準確性)\n"
      ]
    },
    {
      "cell_type": "code",
      "metadata": {
        "id": "2dSoTB_RAJ38"
      },
      "source": [
        "# import the MATPLOT library\n",
        "\n",
        "import matplotlib.pyplot as plt"
      ],
      "execution_count": null,
      "outputs": []
    },
    {
      "cell_type": "code",
      "metadata": {
        "colab": {
          "base_uri": "https://localhost:8080/",
          "height": 530
        },
        "id": "vGv4QUHNANAZ",
        "outputId": "af64f108-936a-4418-a5fb-3e911d9b9a7d"
      },
      "source": [
        "# plot the loss & accuracy\n",
        "\n",
        "plt.plot(r.history['loss'], label='train loss')\n",
        "plt.legend()\n",
        "plt.show()\n",
        "plt.savefig('Loss&Acc')\n",
        "\n",
        "plt.plot(r.history['accuracy'], label='train acc')\n",
        "plt.legend()\n",
        "plt.show()\n",
        "plt.savefig('Loss&Acc')\n"
      ],
      "execution_count": null,
      "outputs": [
        {
          "output_type": "display_data",
          "data": {
            "image/png": "[encoded data removed]",
            "text/plain": [
              "<Figure size 432x288 with 1 Axes>"
            ]
          },
          "metadata": {
            "tags": [],
            "needs_background": "light"
          }
        },
        {
          "output_type": "display_data",
          "data": {
            "image/png": "[encoded data removed]",
            "text/plain": [
              "<Figure size 432x288 with 1 Axes>"
            ]
          },
          "metadata": {
            "tags": [],
            "needs_background": "light"
          }
        },
        {
          "output_type": "display_data",
          "data": {
            "text/plain": [
              "<Figure size 432x288 with 0 Axes>"
            ]
          },
          "metadata": {
            "tags": []
          }
        }
      ]
    },
    {
      "cell_type": "markdown",
      "metadata": {
        "id": "8LYtAuQ0b3Ok"
      },
      "source": [
        "##Step 9: Making the Predictions and Evaluating the Model (進行預測和評估模型)\n",
        "\n",
        "Now the ANN model is ready and also performed on the training dataset. \n",
        "\n",
        "But, how would we know if it is **good**? \n",
        "\n",
        "1. We will check our model using the test data set, however, only using independent variables (自變量). \n",
        "\n",
        "2. Results from the predicted test dataset will then be compared with the original results. \n",
        "\n",
        "<img src =\"https://www.biochek.com/wp-content/uploads/2017/05/Accuracy-vs-precision1.jpg\" width =\"800\" /> \n",
        "\n"
      ]
    },
    {
      "cell_type": "markdown",
      "metadata": {
        "id": "2WJuH-bbAWuW"
      },
      "source": [
        "###Step 9A: Predicting the Test set results (預測測試集結果)\n",
        "\n",
        "1. As the dataset being used has a binary outcome (二元結果), a classification approach of supervised machine learning is used here. \n",
        "\n",
        "2. The first step is to predict the outcome of the test dataset using the independent variable, here X_test, using the ‘ann’ model trained on the training dataset. \n",
        "\n",
        "3. As you used sigmoid activation function for output, hence the results are in probability. \n",
        "\n",
        "4. Next, you will have to convert those probabilities (轉換概率) into true ( > 0.05) or false (<0.05) and then change those true and false into 0 and 1. "
      ]
    },
    {
      "cell_type": "code",
      "metadata": {
        "id": "P1FAoa6fb5zs",
        "colab": {
          "base_uri": "https://localhost:8080/"
        },
        "outputId": "a1df3bab-1ac4-4edf-a5f6-5f41128b4efa"
      },
      "source": [
        "# Predicting the Test set results\n",
        "# 預測測試集結果\n",
        "\n",
        "y_pred = model.predict (X_test)\n",
        "y_pred = (y_pred > 0.5)\n",
        "y_pred = y_pred.astype(int)\n",
        "\n",
        "print(y_pred[0:10])"
      ],
      "execution_count": null,
      "outputs": [
        {
          "output_type": "stream",
          "text": [
            "[[1]\n",
            " [1]\n",
            " [0]\n",
            " [1]\n",
            " [0]\n",
            " [1]\n",
            " [1]\n",
            " [0]\n",
            " [0]\n",
            " [0]]\n"
          ],
          "name": "stdout"
        }
      ]
    },
    {
      "cell_type": "markdown",
      "metadata": {
        "id": "q6Z5Nu15gJLD"
      },
      "source": [
        "###Step 9B: Create the Confusion Matrix (創建混淆矩陣)\n",
        "\n",
        "<img src =\"https://2.bp.blogspot.com/-EvSXDotTOwc/XMfeOGZ-CVI/AAAAAAAAEiE/oePFfvhfOQM11dgRn9FkPxlegCXbgOF4QCLcBGAs/s1600/confusionMatrxiUpdated.jpg\" width = \"800\" />\n",
        "\n",
        "1. The confusion matrix is used to compare the predicted results of the test dataset with the original results of the test dataset. \n",
        "\n",
        "2. Scikit library is required to create a confusion matrix, here 2 x 2 table.  "
      ]
    },
    {
      "cell_type": "code",
      "metadata": {
        "colab": {
          "base_uri": "https://localhost:8080/"
        },
        "id": "SAihZG-lfwvX",
        "outputId": "1dec985f-9af1-4eac-c3b7-7f486964e358"
      },
      "source": [
        "from sklearn.metrics import confusion_matrix, accuracy_score\n",
        "cm = confusion_matrix(y_test, y_pred)\n",
        "cm"
      ],
      "execution_count": null,
      "outputs": [
        {
          "output_type": "execute_result",
          "data": {
            "text/plain": [
              "array([[1207,  323],\n",
              "       [ 314, 1792]])"
            ]
          },
          "metadata": {
            "tags": []
          },
          "execution_count": 19
        }
      ]
    },
    {
      "cell_type": "markdown",
      "metadata": {
        "id": "SbkISoSDegfE"
      },
      "source": [
        "###Step 9C: Calculate the Accuracy score (計算準確度分數)\n",
        "\n",
        "Accuracy calculation also requires the Scikit library. \n",
        "\n",
        "It shows how good the model is."
      ]
    },
    {
      "cell_type": "code",
      "metadata": {
        "colab": {
          "base_uri": "https://localhost:8080/"
        },
        "id": "LnYWDGNHejta",
        "outputId": "c13840e5-2d57-4722-9e64-8cb51979552f"
      },
      "source": [
        "# calculate the accuracy score\n",
        "\n",
        "accuracy_score(y_test, y_pred)"
      ],
      "execution_count": null,
      "outputs": [
        {
          "output_type": "execute_result",
          "data": {
            "text/plain": [
              "0.8248074807480749"
            ]
          },
          "metadata": {
            "tags": []
          },
          "execution_count": 20
        }
      ]
    },
    {
      "cell_type": "markdown",
      "metadata": {
        "id": "axgBtK1bftQc"
      },
      "source": [
        "##Step 10: Create a Predictor (創建預測器)\n",
        "\n",
        "<img src =\"https://store-images.s-microsoft.com/image/apps.16894.c02476d2-2378-4f60-8290-b6d4b3842643.79a2ef6a-4775-4c79-8d93-9caf077660eb.1bbd88a4-0a17-4750-91a0-cd7d98f58e9d\" width =\"600\" /> \n",
        "\n",
        "Visualising the Trained model results with new data\n",
        "\n",
        "This is the final and the best part of a  (預測模型) — visualizing the results. \n",
        "\n",
        "Yep! Nothing is more fun than seeing your code run successfully and seeing an output. \n"
      ]
    },
    {
      "cell_type": "markdown",
      "metadata": {
        "id": "oQqwBehfCnZy"
      },
      "source": [
        "**Prediction function (預測函數)**\n",
        "\n",
        "After training the classification model, we need to use this model to predict the label of each sample in the test set. \n",
        "\n",
        "1. predict() method\n",
        "\n",
        "> When using the predict() method to predict, the return value is a numeric value, indicating the probability (表示概率) that the sample belongs to each category. \n",
        "\n",
        "> We can use the numpy.argmax() method to find the category to which the sample belongs with the maximum probability (最大概率) as the predicted label of the sample.\n",
        "\n",
        "\n",
        "\n",
        "\n",
        "\n",
        "2. predict_classes() method\n",
        "\n",
        "> When using the predict_classes() method to make predictions, what is returned is the index of the category (返回類別的索引), that is, the category label to which the sample belongs."
      ]
    },
    {
      "cell_type": "code",
      "metadata": {
        "id": "Lov_Ndi-5vzk"
      },
      "source": [
        "import matplotlib.pyplot as plt\n",
        "import numpy as np"
      ],
      "execution_count": null,
      "outputs": []
    },
    {
      "cell_type": "code",
      "metadata": {
        "id": "68yaUHRNgGZM"
      },
      "source": [
        "# answer the following questions \n",
        "\n",
        "a = ([0],   # mean_temp ?\n",
        "  [0],   # grass_min_temp ?\n",
        "  [0],   # max_temp ?\n",
        "  [0],   # mean_amount_of_cloud ?\n",
        "  [0],   # mean_dew_point_temp ?\n",
        "  [0],   # mean_wet_bulb_temp ?\n",
        "  [0],   # min_temp ?\n",
        "  [0],   # pressure ?\n",
        "  [0],   # rh ?\n",
        "  [0])   # month ?\n",
        "  \n",
        "xnew = np.transpose(a)"
      ],
      "execution_count": null,
      "outputs": []
    },
    {
      "cell_type": "code",
      "metadata": {
        "colab": {
          "base_uri": "https://localhost:8080/"
        },
        "id": "vTUozdqefvt4",
        "outputId": "b95ff3e2-88bf-4ac4-e265-eeafabd08779"
      },
      "source": [
        "y_pred = model.predict(xnew)*100\n",
        "# Printing the accuracy\n",
        "print('The probability of raining today is: ', y_pred,'%')\n",
        " \n"
      ],
      "execution_count": null,
      "outputs": [
        {
          "output_type": "stream",
          "text": [
            "You are OKAY!!\n"
          ],
          "name": "stdout"
        }
      ]
    },
    {
      "cell_type": "markdown",
      "metadata": {
        "id": "SKJfFmHHI7fs"
      },
      "source": [
        "## Source:\n",
        "\n",
        "1. [Greycampus](https://www.greycampus.com/blog/data-science/artificial-neural-network-walkthrough)\n",
        "\n",
        "2. [Kaggle](https://www.kaggle.com/vishakhasinghiitbhu/covid-classifier)"
      ]
    }
  ]
}